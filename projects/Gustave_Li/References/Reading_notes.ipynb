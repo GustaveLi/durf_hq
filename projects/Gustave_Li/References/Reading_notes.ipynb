{
 "cells": [
  {
   "cell_type": "markdown",
   "id": "c8a6b8e8",
   "metadata": {},
   "source": [
    "# Reference 1: \n",
    "\n",
    "## [Unraveling the Mechanism of Photoinduced Charge Transfer in Carotenoid−Porphyrin−C60 Molecular Triad](https://pubs.acs.org/doi/10.1021/acs.jpclett.5b00074)"
   ]
  },
  {
   "cell_type": "markdown",
   "id": "1f867349",
   "metadata": {},
   "source": [
    "- The molecular triad absorbs a UV visible light and produces a charge separated state (CT2) where an electron is transferred from C to C60, thus producing a large dipole moment of ～150 D.\n",
    "\n",
    "\n",
    "- Thermal fluctuations facilitate the transition between a linearly extended configuration, which is the most energetically stable one, to a bent configuration that is, however, the dominant one at room temperature due to entropy.\n",
    "\n",
    "\n",
    "- The intramolecular triad conformation may greatly affect the CT kinetics\n",
    "\n",
    "\n",
    "- There are two possible mechanisms for the photoinduced charge transfer:\n",
    "    - In one mechanism, the charge separation follows a series of CT steps, where CT2, which is the final charge-separated state, is produced following coupling to CT1. \n",
    "    - The second mechanism involves a single concerted step where the final CT2 state is directly coupled to the absorbing state of a localized π−π* excitation on the porphyrin chromophore\n",
    "\n",
    "\n",
    "- **The triad spatial conformation strongly affects the process of charge separation of a molecular triad**\n",
    "    - The CT1 in the bent conformation **functions as a charge trap**, further hindering the generation of charge separation in CT2\n",
    "    - The sequential mechanism is practically turned off in the bent conformation, the dominant mechanism for charge separation for the bent conformation lies in the concerted mechanism\n",
    "    - For the bent conformation, the charge transfer is attenuated due to a significantly reduced rate for the transfer process between the shorter and longer range CT states (CT1 ↔ CT2)\n",
    "\n",
    "\n",
    "- It is encouraged to populate **linear conformations** over the bent ones for achieving efficient charge separation"
   ]
  },
  {
   "cell_type": "markdown",
   "id": "25990de5",
   "metadata": {},
   "source": [
    "# Reference 2\n",
    "## [Linear-Response and Nonlinear-Response Formulations of the Instantaneous Marcus Theory for Nonequilibrium Photoinduced Charge Transfer](https://pubs.acs.org/doi/10.1021/acs.jctc.0c01250)"
   ]
  },
  {
   "cell_type": "markdown",
   "id": "8bca2896",
   "metadata": {},
   "source": [
    " - MT vs. IMT   \n",
    "    - Marcus theory (MT)\n",
    "        - Compute CT rate constants in a variety of complex systems in the condensed phase\n",
    "        - Expressed in terms of only three parameters\n",
    "        - **Cannot account for the effect caused by the nonequilibrium nature of the initial preparation**\n",
    "    - Instantaneous Marcus theory (IMT)\n",
    "        - Account for the effects due to the nonequilibrium initial preparation\n",
    "        - IMT expressions require nonequilibrium molecular dynamics (NEMD) simulations on the donor PES with initial nuclear conditions sampled on the equilibrated ground PES, which is computationally expensive\n",
    "\n",
    "\n",
    "- NLR IMT & LR IMT: Compute IMT for nonequilibrium photoinduced CT with only equilibrium molecular dynamics (MD) simulations\n",
    "    - NLR IMT: **yields an excellent prediction** for the nonequilibrium IMT CT rate coefficients in all cases investigated, save 60% of computational cost\n",
    "    - LR IMT: predicts the **correct trends** of the CT rate coefficient but overestimate the transient IMT CT rate, save 80% of computational cost"
   ]
  },
  {
   "cell_type": "markdown",
   "id": "69fe3c1c",
   "metadata": {},
   "source": [
    "# Reference 3\n",
    "## [The effect of structural changes on charge transfer states in a light-harvesting carotenoid-diaryl-porphyrin-C60 molecular triad](https://aip.scitation.org/doi/10.1063/1.4876075)"
   ]
  },
  {
   "cell_type": "markdown",
   "id": "4dce01a2",
   "metadata": {},
   "source": [
    "- CPC60 triad molecule\n",
    "    - Consists of organic/inorganic pigments covalently linked to electron donor and/or acceptor moieties\n",
    "    - Retards charge recombination by the addition of a secondary donor (carotenoid) molecule which allowed for an increased separation between the particle and hole states\n",
    "    - The HOMO of the triad is on the carotenoid and the lowest three LUMOs are located on the fullerene\n",
    "    - The hybridization of the molecular orbitals belonging to different components is negligible such that the orbitals involved in charge-transfer excited state transitions are mostly localized on the parent components\n",
    "\n",
    "\n",
    "- Conformational factors that may affect the CT performance\n",
    "    - Donor-acceptor (carotene-fullerene) distance (extent of folding) \\-\\-significant\n",
    "    - Torsions originated from the C60-porphyrin & the porphyrin-carotene linkage \\-\\-not significant\n",
    "    - The angle between the porphyrin macrocycle and its two meso-aryl groups \\-\\-not significant"
   ]
  },
  {
   "cell_type": "markdown",
   "id": "41868a97",
   "metadata": {},
   "source": [
    "# Reference 4\n",
    "## [Photoinduced Charge Transfer Dynamics in the Carotenoid−Porphyrin−C60 Triad via the Linearized Semiclassical Nonequilibrium Fermi’s Golden Rule](https://pubs.acs.org/doi/10.1021/acs.jpcb.0c06306)"
   ]
  },
  {
   "cell_type": "markdown",
   "id": "fc1e19d8",
   "metadata": {},
   "source": [
    "- Effects of nonequilibrium nature of the initial state on CT rates\n",
    "    - Bent structures\n",
    "        - Increase the ππ\\* → CT1 transition rate by 40 times\n",
    "        - No significant effect on the overall ππ\\* → CT2 transition rate\n",
    "    - Linear structures\n",
    "        - Have negligible effect on both of the steps\n",
    "        \n",
    "- Solvation process\n",
    "    - Bent structures: THF molecules reorient so as to align their dipoles in a manner that leads to stabilization on the ππ\\* PES, increasing the donor\\-acceptor energy gap\n",
    "    - Linear structures: No change in THF molecules, no significant change in the energy gap\n",
    "\n",
    "\n",
    "- Bent vs. linear\n",
    "    - The fact that both the timescale and kinetics of the ππ\\* → CT1 transition are strongly conformation-dependent can be viewed as a structure-function relation, where the molecular structure (triad conformation) is seen to have a rather dramatic effect on the function (the CT rate)."
   ]
  },
  {
   "cell_type": "code",
   "execution_count": null,
   "id": "361ddc0d",
   "metadata": {},
   "outputs": [],
   "source": []
  }
 ],
 "metadata": {
  "kernelspec": {
   "display_name": "Python 3",
   "language": "python",
   "name": "python3"
  },
  "language_info": {
   "codemirror_mode": {
    "name": "ipython",
    "version": 3
   },
   "file_extension": ".py",
   "mimetype": "text/x-python",
   "name": "python",
   "nbconvert_exporter": "python",
   "pygments_lexer": "ipython3",
   "version": "3.8.10"
  }
 },
 "nbformat": 4,
 "nbformat_minor": 5
}
