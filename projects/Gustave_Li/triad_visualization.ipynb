{
 "cells": [
  {
   "cell_type": "markdown",
   "id": "07d728fa",
   "metadata": {},
   "source": [
    "## This simple program aims to visualize the 100,000 traid molecules in the dataset"
   ]
  },
  {
   "cell_type": "code",
   "execution_count": 1,
   "id": "ca639342",
   "metadata": {},
   "outputs": [
    {
     "data": {
      "application/vnd.jupyter.widget-view+json": {
       "model_id": "b367409280e242a08c6403193102aed1",
       "version_major": 2,
       "version_minor": 0
      },
      "text/plain": []
     },
     "metadata": {},
     "output_type": "display_data"
    }
   ],
   "source": [
    "# Import modules\n",
    "import mdtraj as md\n",
    "import nglview as ng"
   ]
  },
  {
   "cell_type": "code",
   "execution_count": 2,
   "id": "7d13be1a",
   "metadata": {
    "scrolled": true
   },
   "outputs": [
    {
     "data": {
      "application/vnd.jupyter.widget-view+json": {
       "model_id": "ca3d04105825420b8c7a0719104d2e8e",
       "version_major": 2,
       "version_minor": 0
      },
      "text/plain": [
       "NGLWidget()"
      ]
     },
     "metadata": {},
     "output_type": "display_data"
    }
   ],
   "source": [
    "# Test for a sample molecule (pdb file)\n",
    "sample_path = '/DURF_datasets/triad_molecule/triad_sample.pdb'\n",
    "sample_view = ng.show_file(sample_path)\n",
    "sample_view\n"
   ]
  },
  {
   "cell_type": "code",
   "execution_count": 3,
   "id": "25ad7b24",
   "metadata": {},
   "outputs": [],
   "source": [
    "# Load dataset\n",
    "data_path = '/DURF_datasets/triad_molecule/triad_dataset.nc'\n",
    "top_path = '/DURF_datasets/triad_molecule/triad_forcefield_ground.prmtop'\n",
    "traj = md.load(data_path, top=top_path)"
   ]
  },
  {
   "cell_type": "code",
   "execution_count": 4,
   "id": "9d56d662",
   "metadata": {},
   "outputs": [
    {
     "data": {
      "application/vnd.jupyter.widget-view+json": {
       "model_id": "b61aed55ce314abbba3764358a3f1f9d",
       "version_major": 2,
       "version_minor": 0
      },
      "text/plain": [
       "NGLWidget(max_frame=99999)"
      ]
     },
     "metadata": {},
     "output_type": "display_data"
    }
   ],
   "source": [
    "# View in ball-and-stick form\n",
    "view = ng.show_mdtraj(traj)\n",
    "view"
   ]
  },
  {
   "cell_type": "code",
   "execution_count": 5,
   "id": "a6573322",
   "metadata": {},
   "outputs": [
    {
     "data": {
      "application/vnd.jupyter.widget-view+json": {
       "model_id": "a924a9d21b924e5f8e9d0c1ee5be3930",
       "version_major": 2,
       "version_minor": 0
      },
      "text/plain": [
       "NGLWidget(max_frame=99999)"
      ]
     },
     "metadata": {},
     "output_type": "display_data"
    }
   ],
   "source": [
    "# View in licorice form\n",
    "view = ng.show_mdtraj(traj)\n",
    "view.remove_ball_and_stick()\n",
    "view.add_licorice()\n",
    "view"
   ]
  },
  {
   "cell_type": "code",
   "execution_count": null,
   "id": "bf61f239",
   "metadata": {},
   "outputs": [],
   "source": []
  }
 ],
 "metadata": {
  "kernelspec": {
   "display_name": "Python 3",
   "language": "python",
   "name": "python3"
  },
  "language_info": {
   "codemirror_mode": {
    "name": "ipython",
    "version": 3
   },
   "file_extension": ".py",
   "mimetype": "text/x-python",
   "name": "python",
   "nbconvert_exporter": "python",
   "pygments_lexer": "ipython3",
   "version": "3.8.10"
  }
 },
 "nbformat": 4,
 "nbformat_minor": 5
}
