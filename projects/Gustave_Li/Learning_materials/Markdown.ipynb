{
 "cells": [
  {
   "cell_type": "markdown",
   "id": "12a46a14",
   "metadata": {},
   "source": [
    "# Markdown basic syntax"
   ]
  },
  {
   "cell_type": "code",
   "execution_count": null,
   "id": "0821508f",
   "metadata": {},
   "outputs": [],
   "source": [
    "# Heading 1\n",
    "## Heading 2\n",
    "### Heading 3\n",
    "#### Heading 4\n",
    "##### Heading 5\n",
    "###### Heading 6"
   ]
  },
  {
   "cell_type": "markdown",
   "id": "ced420b3",
   "metadata": {},
   "source": [
    "# Heading 1\n",
    "## Heading 2\n",
    "### Heading 3\n",
    "#### Heading 4\n",
    "##### Heading 5\n",
    "###### Heading 6"
   ]
  },
  {
   "cell_type": "code",
   "execution_count": null,
   "id": "7544fabb",
   "metadata": {},
   "outputs": [],
   "source": [
    "*Use asterisks to italicize*"
   ]
  },
  {
   "cell_type": "markdown",
   "id": "7df2d227",
   "metadata": {},
   "source": [
    "*Use asterisks to italicize*"
   ]
  },
  {
   "cell_type": "code",
   "execution_count": null,
   "id": "6edc4f4f",
   "metadata": {},
   "outputs": [],
   "source": [
    "_Can also use underscores to italicize_"
   ]
  },
  {
   "cell_type": "markdown",
   "id": "12bca949",
   "metadata": {},
   "source": [
    "_Can also use underscores to italicize_"
   ]
  },
  {
   "cell_type": "code",
   "execution_count": null,
   "id": "f78d58ef",
   "metadata": {},
   "outputs": [],
   "source": [
    "**Double asterisks makes bold texts**"
   ]
  },
  {
   "cell_type": "markdown",
   "id": "7a8de01b",
   "metadata": {},
   "source": [
    "**Double asterisks makes bold texts**"
   ]
  },
  {
   "cell_type": "code",
   "execution_count": null,
   "id": "5f78ef46",
   "metadata": {},
   "outputs": [],
   "source": [
    "__Double underscores can also do it__"
   ]
  },
  {
   "cell_type": "markdown",
   "id": "ddf807f8",
   "metadata": {},
   "source": [
    "__Double underscores can also do it__"
   ]
  },
  {
   "cell_type": "code",
   "execution_count": null,
   "id": "e5211e66",
   "metadata": {},
   "outputs": [],
   "source": [
    "~~Double tilde makes strikethrough~~"
   ]
  },
  {
   "cell_type": "markdown",
   "id": "b167aabb",
   "metadata": {},
   "source": [
    "~~Double tilde makes strikethrough~~"
   ]
  },
  {
   "cell_type": "code",
   "execution_count": null,
   "id": "3d7be9bd",
   "metadata": {},
   "outputs": [],
   "source": [
    "Triple '-' produces horizontal linebreaks, triple underscore ('_') can also do it"
   ]
  },
  {
   "cell_type": "markdown",
   "id": "cf1809ea",
   "metadata": {},
   "source": [
    "First line\n",
    "___\n",
    "Second line\n",
    "___\n",
    "Third line"
   ]
  },
  {
   "cell_type": "code",
   "execution_count": null,
   "id": "258b13b5",
   "metadata": {},
   "outputs": [],
   "source": [
    "Escape special symbols using backslash (\\)"
   ]
  },
  {
   "cell_type": "markdown",
   "id": "c9b66894",
   "metadata": {},
   "source": [
    "\\_\n",
    "\\*"
   ]
  },
  {
   "cell_type": "code",
   "execution_count": null,
   "id": "c81607e4",
   "metadata": {},
   "outputs": [],
   "source": [
    "Use greater than (>) to produce blockquotes of different levels"
   ]
  },
  {
   "cell_type": "markdown",
   "id": "2c8e1d67",
   "metadata": {},
   "source": [
    ">Primary citation\n",
    ">>Secondary citation\n",
    ">>>Tertiary citation"
   ]
  },
  {
   "cell_type": "code",
   "execution_count": null,
   "id": "5528e11e",
   "metadata": {},
   "outputs": [],
   "source": [
    "# Syntax for creating hyperlinks\n",
    "[Name on screen](link to the webpage)"
   ]
  },
  {
   "cell_type": "markdown",
   "id": "dfb7f920",
   "metadata": {},
   "source": [
    "[Github home page](https://github.com/)"
   ]
  },
  {
   "cell_type": "code",
   "execution_count": null,
   "id": "0d45fa0a",
   "metadata": {},
   "outputs": [],
   "source": [
    "* Single asterisk for unordered list, tab to nest items"
   ]
  },
  {
   "cell_type": "markdown",
   "id": "ece689b3",
   "metadata": {},
   "source": [
    "* Item 1\n",
    "* Item 2\n",
    "* Item 3\n",
    "    * Nested item 1\n",
    "    * Nested item 2"
   ]
  },
  {
   "cell_type": "code",
   "execution_count": null,
   "id": "b856ef87",
   "metadata": {},
   "outputs": [],
   "source": [
    "Create an ordered list as you usually do"
   ]
  },
  {
   "cell_type": "markdown",
   "id": "ec67586c",
   "metadata": {},
   "source": [
    "1. Item 1\n",
    "2. Item 2\n",
    "3. Item 3\n",
    "    1. Nested item 1\n",
    "    2. Nested item 2"
   ]
  },
  {
   "cell_type": "code",
   "execution_count": null,
   "id": "28751ece",
   "metadata": {},
   "outputs": [],
   "source": [
    "`Use vac ticks (`) to surround a codeblock` (Triple vac ticks may also work)"
   ]
  },
  {
   "cell_type": "markdown",
   "id": "934ecdc3",
   "metadata": {},
   "source": [
    "`print('Use single vac tick')`"
   ]
  },
  {
   "cell_type": "markdown",
   "id": "71be5da7",
   "metadata": {},
   "source": [
    "```print('Use triple vac ticks')```"
   ]
  },
  {
   "cell_type": "code",
   "execution_count": null,
   "id": "6027b316",
   "metadata": {},
   "outputs": [],
   "source": [
    "# Syntax for inserting pictures\n",
    "![Name on screen](link to the picture)"
   ]
  },
  {
   "cell_type": "markdown",
   "id": "279eaa1e",
   "metadata": {},
   "source": [
    "![NYUSH](data:image/jpeg;base64,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)"
   ]
  },
  {
   "cell_type": "markdown",
   "id": "5745101f",
   "metadata": {},
   "source": [
    "# Github Markdown"
   ]
  },
  {
   "cell_type": "code",
   "execution_count": null,
   "id": "e63c52b4",
   "metadata": {},
   "outputs": [],
   "source": [
    "Use triple vac ticks to make codeblocks with multiple lines, can also specify language (Python, Java, etc.) (Syntax highlighting)"
   ]
  },
  {
   "cell_type": "markdown",
   "id": "48ba86cf",
   "metadata": {},
   "source": [
    "```python\n",
    "    print('hello')\n",
    "    print('another line')\n",
    "```"
   ]
  },
  {
   "cell_type": "code",
   "execution_count": null,
   "id": "a2493fc6",
   "metadata": {},
   "outputs": [],
   "source": [
    "Complicated syntax for tables, not recommended"
   ]
  },
  {
   "cell_type": "code",
   "execution_count": null,
   "id": "b3e2ca3f",
   "metadata": {},
   "outputs": [],
   "source": [
    "Checkbox: - [ ]\n",
    "Checked checkbox: - [x]"
   ]
  },
  {
   "cell_type": "markdown",
   "id": "2721fc3b",
   "metadata": {},
   "source": [
    "- [ ]\n",
    "- [x]"
   ]
  },
  {
   "cell_type": "code",
   "execution_count": null,
   "id": "7401d423",
   "metadata": {},
   "outputs": [],
   "source": []
  }
 ],
 "metadata": {
  "kernelspec": {
   "display_name": "Python 3",
   "language": "python",
   "name": "python3"
  },
  "language_info": {
   "codemirror_mode": {
    "name": "ipython",
    "version": 3
   },
   "file_extension": ".py",
   "mimetype": "text/x-python",
   "name": "python",
   "nbconvert_exporter": "python",
   "pygments_lexer": "ipython3",
   "version": "3.8.10"
  }
 },
 "nbformat": 4,
 "nbformat_minor": 5
}
