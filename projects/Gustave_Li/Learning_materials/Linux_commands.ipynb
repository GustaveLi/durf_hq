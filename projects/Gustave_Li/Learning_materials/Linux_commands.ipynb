{
 "cells": [
  {
   "cell_type": "markdown",
   "id": "71841613",
   "metadata": {},
   "source": [
    "## `pwd` command\n",
    "Print Working Directory: tell where you are located now"
   ]
  },
  {
   "cell_type": "markdown",
   "id": "c3bca170",
   "metadata": {},
   "source": [
    "## `ls` command\n",
    "LiSt contents of current directory\n",
    "\n",
    "`ls -R`: show **all** the files and folders in the directory and **sub directories**\n",
    "\n",
    "`ls -al`: details of all the files and folders\n",
    "\n",
    "`ls -a`: display the hidden files (the name starts with a '.')"
   ]
  },
  {
   "cell_type": "markdown",
   "id": "bf4f3977",
   "metadata": {},
   "source": [
    "## `cd` command\n",
    "Change Directory: use for nevigation \n",
    "\n",
    "`cd (target_folder)`: go to target folder (under the current folder)\n",
    "\n",
    "`cd (path_for_target_folder)`: nevigating through multiple directories\n",
    "\n",
    "`cd ..`: back to the previous folder (that contains the current folder)\n",
    "\n",
    "`cd /`: go to root directory\n",
    "\n",
    "`cd` or `cd ~`: go to home directory (`~`)"
   ]
  },
  {
   "cell_type": "markdown",
   "id": "79c1a892",
   "metadata": {},
   "source": [
    "## `cat` command\n",
    "Display, copy, combine, create text files\n",
    "\n",
    "`cat > (filename)`: create the file. Add the content by pressing `Enter`, press `Ctrl D` to return to the command prompt\n",
    "\n",
    "`cat (filename)`: view an existing file\n",
    "\n",
    "`cat (existing_filename_1) (existing_filename_2) > (new_filename)`: concatenate two files to another file"
   ]
  },
  {
   "cell_type": "markdown",
   "id": "af68128d",
   "metadata": {},
   "source": [
    "## `mv` command\n",
    "MoVe files and dir (rename)\n",
    "\n",
    "`mv (filename) (new_file_location)`: may raise an error **because the user has no priviledge**, instead, use superuser permission\n",
    "\n",
    "`mv (filename) (new_filename)`: rename the file\n",
    "\n",
    "works the same for moving and renaming folders"
   ]
  },
  {
   "cell_type": "markdown",
   "id": "c356e7e6",
   "metadata": {},
   "source": [
    "## `sudo` command\n",
    "`sudo (some Linux commands)`: enable users to run programms with privileges of superusers"
   ]
  },
  {
   "cell_type": "markdown",
   "id": "539abbde",
   "metadata": {},
   "source": [
    "## `cp` command\n",
    "CoPy files or directory\n",
    "\n",
    "`cp (existing_filename) (new_filename)`: copy a file and paste it **into the same folder** with a different name\n",
    "\n",
    "`cp (existing_filename) (path_of_another_directory)`: copy a file and paste it to another directory\n",
    "\n"
   ]
  },
  {
   "cell_type": "markdown",
   "id": "c170af63",
   "metadata": {},
   "source": [
    "## `rm` command\n",
    "ReMove or delete files **under the current folder**\n",
    "\n",
    "`rm (target_file)`: remove the file\n",
    "\n",
    "`rm -r (folder_name)`: remove a folder with files in it"
   ]
  },
  {
   "cell_type": "markdown",
   "id": "82084052",
   "metadata": {},
   "source": [
    "## `mkdir` & `rmdir` commands\n",
    "`mkdir (dir_name1) (dir_name2) ...`: MaKe (create) new DIRectory (ies) under the current folder\n",
    "\n",
    "`mkdir (path_of_new_dir/dir_name)`: create a new dir under another path\n",
    "\n",
    "`rmdir (dir_name)`: ReMove (delete) an **empty** folder (for folders with files, use `rm -r`)"
   ]
  },
  {
   "cell_type": "markdown",
   "id": "44b2cfe6",
   "metadata": {},
   "source": [
    "## `man` command\n",
    "MANuals of any commands\n",
    "\n",
    "`man (command_name)`"
   ]
  },
  {
   "cell_type": "markdown",
   "id": "c628a8b9",
   "metadata": {},
   "source": [
    "## `history` command\n",
    "show all the commands that you have used for the current terminal session"
   ]
  },
  {
   "cell_type": "markdown",
   "id": "afecf5db",
   "metadata": {},
   "source": [
    "## `apt-get` command\n",
    "install or remove a software (represented by packages), need superuser permission\n",
    "\n",
    "`sudo apt-get install (appname)`: install a software"
   ]
  },
  {
   "cell_type": "markdown",
   "id": "30dad806",
   "metadata": {},
   "source": [
    "## `>` , `>>` & `>&` commands\n",
    "output redirection: change the output location (the default output is the screen)\n",
    "\n",
    "`(some commands) > filename`: run the commands and save the results in a file (e.g. `ls > results`). **If the file exists, it will cover the existing file**\n",
    "\n",
    "`(some commands) >> filename`: append the results to an existing file, it the file doesn't exist, then create one\n",
    "\n",
    "`(some commands) 2> filename`: everything is a file in Linux, which is tagged by FD (file descriptor). **FD0 is standard in, FD1 is std. out, and FD2 is standard error.** By specifing the FD of 2, we can let Linux store the error message in a seperate file. (otherwise it would print on the screen)\n",
    "\n",
    "`>&` redirects output of one file to another"
   ]
  },
  {
   "cell_type": "markdown",
   "id": "dd07f828",
   "metadata": {},
   "source": [
    "## `<` command\n",
    "input redirection: changes the source of input (by default it is the keyboard)"
   ]
  },
  {
   "cell_type": "markdown",
   "id": "2eb41efe",
   "metadata": {},
   "source": [
    "## `echo` command\n",
    "access an variable\n",
    "\n",
    "`echo $(variable_name)` (e.g. PATH, USER, HOME, etc)"
   ]
  },
  {
   "cell_type": "markdown",
   "id": "2ffc1a3c",
   "metadata": {},
   "source": [
    "## Creating & deleting variables\n",
    "`(var_name)=(value)`: create a variable **There is no space left and right of =, otherwise it may raise an error**\n",
    "\n",
    "`export (var_name)=(value)`: set value of an **environment variable**\n",
    "\n",
    "`unset (var_name)`: delete a variable (no $ sign before var name）"
   ]
  }
 ],
 "metadata": {
  "kernelspec": {
   "display_name": "Python 3",
   "language": "python",
   "name": "python3"
  },
  "language_info": {
   "codemirror_mode": {
    "name": "ipython",
    "version": 3
   },
   "file_extension": ".py",
   "mimetype": "text/x-python",
   "name": "python",
   "nbconvert_exporter": "python",
   "pygments_lexer": "ipython3",
   "version": "3.9.5"
  }
 },
 "nbformat": 4,
 "nbformat_minor": 5
}
