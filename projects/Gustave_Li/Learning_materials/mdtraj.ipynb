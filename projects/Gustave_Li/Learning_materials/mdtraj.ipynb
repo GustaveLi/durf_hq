{
 "cells": [
  {
   "cell_type": "code",
   "execution_count": 1,
   "id": "0b47c4e5",
   "metadata": {},
   "outputs": [],
   "source": [
    "import mdtraj as md\n",
    "import numpy as np\n",
    "import pandas as pd\n",
    "import matplotlib.pyplot as plt\n",
    "from mpl_toolkits import mplot3d"
   ]
  },
  {
   "cell_type": "markdown",
   "id": "e0b5c3b1",
   "metadata": {},
   "source": [
    "# Basics"
   ]
  },
  {
   "cell_type": "markdown",
   "id": "697ecd79",
   "metadata": {},
   "source": [
    "## Load trajectory"
   ]
  },
  {
   "cell_type": "code",
   "execution_count": 2,
   "id": "7a64deff",
   "metadata": {},
   "outputs": [
    {
     "name": "stdout",
     "output_type": "stream",
     "text": [
      "<mdtraj.Trajectory with 100000 frames, 207 atoms, 1 residues, and unitcells>\n"
     ]
    }
   ],
   "source": [
    "# To load files that don’t contain topology information, we need to supply something with the top keyword argument\n",
    "traj = md.load('/DURF_datasets/triad_molecule/triad_dataset.nc', top= '/DURF_datasets/triad_molecule/triad_forcefield_ground.prmtop')\n",
    "print(traj)"
   ]
  },
  {
   "cell_type": "markdown",
   "id": "4bb8457c",
   "metadata": {},
   "source": [
    "## Slice the frames"
   ]
  },
  {
   "cell_type": "code",
   "execution_count": 3,
   "id": "8542a16b",
   "metadata": {},
   "outputs": [
    {
     "name": "stdout",
     "output_type": "stream",
     "text": [
      "<mdtraj.Trajectory with 10 frames, 207 atoms, 1 residues, and unitcells>\n",
      "<mdtraj.Trajectory with 5 frames, 207 atoms, 1 residues, and unitcells>\n"
     ]
    }
   ],
   "source": [
    "# Pretty much like slicing a list\n",
    "print(traj[:10])\n",
    "print(traj[:10:2])"
   ]
  },
  {
   "cell_type": "markdown",
   "id": "0df69211",
   "metadata": {},
   "source": [
    "## Save traj back to disk"
   ]
  },
  {
   "cell_type": "code",
   "execution_count": 4,
   "id": "1f65fd31",
   "metadata": {},
   "outputs": [],
   "source": [
    "# The format will be parsed based on the extension\n",
    "# Choose several frames for the tutorial, try not to touch the full dataset\n",
    "traj[::10000].save('/DURF_datasets/triad_molecule/for_tutorial.xyz')"
   ]
  },
  {
   "cell_type": "code",
   "execution_count": 2,
   "id": "a978d8a3",
   "metadata": {},
   "outputs": [],
   "source": [
    "# Load the subset for tutorial\n",
    "data_dir = '/DURF_datasets/triad_molecule'\n",
    "traj_file = f'{data_dir}/for_tutorial.h5'\n",
    "traj = md.load(traj_file)"
   ]
  },
  {
   "cell_type": "markdown",
   "id": "cfd5f8b8",
   "metadata": {},
   "source": [
    "## # of atoms, residues, and frames"
   ]
  },
  {
   "cell_type": "code",
   "execution_count": 6,
   "id": "1a53754b",
   "metadata": {},
   "outputs": [
    {
     "name": "stdout",
     "output_type": "stream",
     "text": [
      "207\n",
      "1\n",
      "10\n"
     ]
    }
   ],
   "source": [
    "print(traj.n_atoms)\n",
    "print(traj.n_residues)\n",
    "print(traj.n_frames)"
   ]
  },
  {
   "cell_type": "markdown",
   "id": "b0a5c5e1",
   "metadata": {},
   "source": [
    "## Cartesian coordinates"
   ]
  },
  {
   "cell_type": "code",
   "execution_count": 7,
   "id": "1ebac0fa",
   "metadata": {},
   "outputs": [
    {
     "name": "stdout",
     "output_type": "stream",
     "text": [
      "(10, 207, 3)\n",
      "(5.6700797, 3.2196846, 4.0595813)\n"
     ]
    }
   ],
   "source": [
    "# The Cartesian coordinates are stored in an ndarray xyz\n",
    "print (traj.xyz.shape)\n",
    "# Display the coordinate of the 8th atom at the 5th frame\n",
    "print(tuple(traj.xyz[4,7,:]))"
   ]
  },
  {
   "cell_type": "markdown",
   "id": "5312d32a",
   "metadata": {},
   "source": [
    "# Topology Object"
   ]
  },
  {
   "cell_type": "markdown",
   "id": "e68fea8b",
   "metadata": {},
   "source": [
    "## Topology\n",
    "The `Topology` of a `Trajectory` contains all the connectivity information of your system and specific chain, residue, and atom information"
   ]
  },
  {
   "cell_type": "code",
   "execution_count": 8,
   "id": "665b38d1",
   "metadata": {},
   "outputs": [
    {
     "data": {
      "text/plain": [
       "<mdtraj.Topology with 1 chains, 1 residues, 207 atoms, 247 bonds at 0x254a158dc40>"
      ]
     },
     "execution_count": 8,
     "metadata": {},
     "output_type": "execute_result"
    }
   ],
   "source": [
    "top = traj.topology\n",
    "top"
   ]
  },
  {
   "cell_type": "markdown",
   "id": "c3d5b0eb",
   "metadata": {},
   "source": [
    "## Select an atom / loop through atoms"
   ]
  },
  {
   "cell_type": "code",
   "execution_count": 9,
   "id": "3b746881",
   "metadata": {},
   "outputs": [
    {
     "name": "stdout",
     "output_type": "stream",
     "text": [
      "TRI0-C4\n",
      "[TRI0-C1, TRI0-C2, TRI0-C3, TRI0-C4, TRI0-C5, TRI0-C6, TRI0-C7, TRI0-C8, TRI0-C9, TRI0-C10, TRI0-C11, TRI0-C12, TRI0-C13, TRI0-C14, TRI0-C15, TRI0-C16, TRI0-C17, TRI0-C18, TRI0-C19, TRI0-C20]\n"
     ]
    }
   ],
   "source": [
    "# Select the 4th atom\n",
    "print(top.atom(3)) # Index starts from 0\n",
    "# Loop through the first 20 atoms\n",
    "print([atom for atom in top.atoms if atom.index < 20])"
   ]
  },
  {
   "cell_type": "markdown",
   "id": "8e8af106",
   "metadata": {},
   "source": [
    "## Properties of atoms\n",
    "- index\n",
    "- name\n",
    "- element\n",
    "    - mass\n",
    "    - name\n",
    "    - symbol\n",
    "    - number (atomic)\n",
    "    - radius\n",
    "- n_bonds"
   ]
  },
  {
   "cell_type": "code",
   "execution_count": 10,
   "id": "c76f3f1e",
   "metadata": {},
   "outputs": [
    {
     "data": {
      "text/plain": [
       "3"
      ]
     },
     "execution_count": 10,
     "metadata": {},
     "output_type": "execute_result"
    }
   ],
   "source": [
    "# Want to see the # of bonds for the 5th atom\n",
    "atom = top.atom(4)\n",
    "atom.n_bonds"
   ]
  },
  {
   "cell_type": "markdown",
   "id": "8cad78f6",
   "metadata": {},
   "source": [
    "# Analysis"
   ]
  },
  {
   "cell_type": "markdown",
   "id": "43e28e3a",
   "metadata": {},
   "source": [
    "## RMSD Analysis\n",
    "Basic syntax: `md.rmsd(target_traj, reference_conformation, frame_num, atom_indices)`\n",
    "\n",
    "3rd and 4th arguments are optional: if the reference is a trajectory, then you need to give the frame num. Atom_indices are given when you want to select atoms for the calculation"
   ]
  },
  {
   "cell_type": "markdown",
   "id": "04ae05c1",
   "metadata": {},
   "source": [
    "### Pairwise RMSD\n",
    "Compute the RMSD value for each two pairs of conformation"
   ]
  },
  {
   "cell_type": "code",
   "execution_count": 11,
   "id": "8361293c",
   "metadata": {},
   "outputs": [
    {
     "data": {
      "text/html": [
       "<div>\n",
       "<style scoped>\n",
       "    .dataframe tbody tr th:only-of-type {\n",
       "        vertical-align: middle;\n",
       "    }\n",
       "\n",
       "    .dataframe tbody tr th {\n",
       "        vertical-align: top;\n",
       "    }\n",
       "\n",
       "    .dataframe thead th {\n",
       "        text-align: right;\n",
       "    }\n",
       "</style>\n",
       "<table border=\"1\" class=\"dataframe\">\n",
       "  <thead>\n",
       "    <tr style=\"text-align: right;\">\n",
       "      <th></th>\n",
       "      <th>0</th>\n",
       "      <th>1</th>\n",
       "      <th>2</th>\n",
       "      <th>3</th>\n",
       "      <th>4</th>\n",
       "      <th>5</th>\n",
       "      <th>6</th>\n",
       "      <th>7</th>\n",
       "      <th>8</th>\n",
       "      <th>9</th>\n",
       "    </tr>\n",
       "  </thead>\n",
       "  <tbody>\n",
       "    <tr>\n",
       "      <th>0</th>\n",
       "      <td>0.000000</td>\n",
       "      <td>0.366514</td>\n",
       "      <td>0.530243</td>\n",
       "      <td>0.685211</td>\n",
       "      <td>0.637866</td>\n",
       "      <td>0.474290</td>\n",
       "      <td>0.621992</td>\n",
       "      <td>0.575354</td>\n",
       "      <td>0.438588</td>\n",
       "      <td>0.491408</td>\n",
       "    </tr>\n",
       "    <tr>\n",
       "      <th>1</th>\n",
       "      <td>0.366516</td>\n",
       "      <td>0.000000</td>\n",
       "      <td>0.505941</td>\n",
       "      <td>0.719797</td>\n",
       "      <td>0.472186</td>\n",
       "      <td>0.459605</td>\n",
       "      <td>0.551277</td>\n",
       "      <td>0.476775</td>\n",
       "      <td>0.446234</td>\n",
       "      <td>0.509999</td>\n",
       "    </tr>\n",
       "    <tr>\n",
       "      <th>2</th>\n",
       "      <td>0.530243</td>\n",
       "      <td>0.505941</td>\n",
       "      <td>0.000000</td>\n",
       "      <td>0.580467</td>\n",
       "      <td>0.527394</td>\n",
       "      <td>0.439379</td>\n",
       "      <td>0.614798</td>\n",
       "      <td>0.524209</td>\n",
       "      <td>0.430268</td>\n",
       "      <td>0.466283</td>\n",
       "    </tr>\n",
       "    <tr>\n",
       "      <th>3</th>\n",
       "      <td>0.685212</td>\n",
       "      <td>0.719797</td>\n",
       "      <td>0.580466</td>\n",
       "      <td>0.000000</td>\n",
       "      <td>0.872281</td>\n",
       "      <td>0.768772</td>\n",
       "      <td>1.018840</td>\n",
       "      <td>0.913994</td>\n",
       "      <td>0.656724</td>\n",
       "      <td>0.881711</td>\n",
       "    </tr>\n",
       "    <tr>\n",
       "      <th>4</th>\n",
       "      <td>0.637864</td>\n",
       "      <td>0.472183</td>\n",
       "      <td>0.527395</td>\n",
       "      <td>0.872281</td>\n",
       "      <td>0.000000</td>\n",
       "      <td>0.372797</td>\n",
       "      <td>0.469098</td>\n",
       "      <td>0.350479</td>\n",
       "      <td>0.419442</td>\n",
       "      <td>0.523004</td>\n",
       "    </tr>\n",
       "    <tr>\n",
       "      <th>5</th>\n",
       "      <td>0.474290</td>\n",
       "      <td>0.459604</td>\n",
       "      <td>0.439379</td>\n",
       "      <td>0.768772</td>\n",
       "      <td>0.372797</td>\n",
       "      <td>0.000000</td>\n",
       "      <td>0.454910</td>\n",
       "      <td>0.503081</td>\n",
       "      <td>0.256254</td>\n",
       "      <td>0.494223</td>\n",
       "    </tr>\n",
       "    <tr>\n",
       "      <th>6</th>\n",
       "      <td>0.621992</td>\n",
       "      <td>0.551270</td>\n",
       "      <td>0.614797</td>\n",
       "      <td>1.018840</td>\n",
       "      <td>0.469098</td>\n",
       "      <td>0.454910</td>\n",
       "      <td>0.000000</td>\n",
       "      <td>0.431566</td>\n",
       "      <td>0.594019</td>\n",
       "      <td>0.384573</td>\n",
       "    </tr>\n",
       "    <tr>\n",
       "      <th>7</th>\n",
       "      <td>0.575354</td>\n",
       "      <td>0.476771</td>\n",
       "      <td>0.524210</td>\n",
       "      <td>0.913994</td>\n",
       "      <td>0.350475</td>\n",
       "      <td>0.503084</td>\n",
       "      <td>0.431566</td>\n",
       "      <td>0.000000</td>\n",
       "      <td>0.545555</td>\n",
       "      <td>0.308000</td>\n",
       "    </tr>\n",
       "    <tr>\n",
       "      <th>8</th>\n",
       "      <td>0.438588</td>\n",
       "      <td>0.446234</td>\n",
       "      <td>0.430268</td>\n",
       "      <td>0.656724</td>\n",
       "      <td>0.419443</td>\n",
       "      <td>0.256256</td>\n",
       "      <td>0.594019</td>\n",
       "      <td>0.545555</td>\n",
       "      <td>0.000000</td>\n",
       "      <td>0.560115</td>\n",
       "    </tr>\n",
       "    <tr>\n",
       "      <th>9</th>\n",
       "      <td>0.491408</td>\n",
       "      <td>0.509999</td>\n",
       "      <td>0.466284</td>\n",
       "      <td>0.881711</td>\n",
       "      <td>0.523004</td>\n",
       "      <td>0.494223</td>\n",
       "      <td>0.384573</td>\n",
       "      <td>0.308000</td>\n",
       "      <td>0.560116</td>\n",
       "      <td>0.000000</td>\n",
       "    </tr>\n",
       "  </tbody>\n",
       "</table>\n",
       "</div>"
      ],
      "text/plain": [
       "          0         1         2         3         4         5         6  \\\n",
       "0  0.000000  0.366514  0.530243  0.685211  0.637866  0.474290  0.621992   \n",
       "1  0.366516  0.000000  0.505941  0.719797  0.472186  0.459605  0.551277   \n",
       "2  0.530243  0.505941  0.000000  0.580467  0.527394  0.439379  0.614798   \n",
       "3  0.685212  0.719797  0.580466  0.000000  0.872281  0.768772  1.018840   \n",
       "4  0.637864  0.472183  0.527395  0.872281  0.000000  0.372797  0.469098   \n",
       "5  0.474290  0.459604  0.439379  0.768772  0.372797  0.000000  0.454910   \n",
       "6  0.621992  0.551270  0.614797  1.018840  0.469098  0.454910  0.000000   \n",
       "7  0.575354  0.476771  0.524210  0.913994  0.350475  0.503084  0.431566   \n",
       "8  0.438588  0.446234  0.430268  0.656724  0.419443  0.256256  0.594019   \n",
       "9  0.491408  0.509999  0.466284  0.881711  0.523004  0.494223  0.384573   \n",
       "\n",
       "          7         8         9  \n",
       "0  0.575354  0.438588  0.491408  \n",
       "1  0.476775  0.446234  0.509999  \n",
       "2  0.524209  0.430268  0.466283  \n",
       "3  0.913994  0.656724  0.881711  \n",
       "4  0.350479  0.419442  0.523004  \n",
       "5  0.503081  0.256254  0.494223  \n",
       "6  0.431566  0.594019  0.384573  \n",
       "7  0.000000  0.545555  0.308000  \n",
       "8  0.545555  0.000000  0.560115  \n",
       "9  0.308000  0.560116  0.000000  "
      ]
     },
     "execution_count": 11,
     "metadata": {},
     "output_type": "execute_result"
    }
   ],
   "source": [
    "# Create a numpy array to store all the values\n",
    "# One loop will produce the same quantity of values as frame number\n",
    "# Loop for (n_frames time) to cover all the conbinations\n",
    "distances = np.empty((traj.n_frames, traj.n_frames))\n",
    "for i in range(traj.n_frames):\n",
    "    distances[i] = md.rmsd(traj, traj, i)\n",
    "pd.DataFrame(distances)"
   ]
  },
  {
   "cell_type": "markdown",
   "id": "ac7d4494",
   "metadata": {},
   "source": [
    "The rmsd results are the same when you exchange the target and reference. It is obvious that the results are symmetric along the diagonal, so almost half of the values are repetitive. Maybe a better version:"
   ]
  },
  {
   "cell_type": "code",
   "execution_count": 12,
   "id": "5c32d077",
   "metadata": {},
   "outputs": [
    {
     "data": {
      "text/html": [
       "<div>\n",
       "<style scoped>\n",
       "    .dataframe tbody tr th:only-of-type {\n",
       "        vertical-align: middle;\n",
       "    }\n",
       "\n",
       "    .dataframe tbody tr th {\n",
       "        vertical-align: top;\n",
       "    }\n",
       "\n",
       "    .dataframe thead th {\n",
       "        text-align: right;\n",
       "    }\n",
       "</style>\n",
       "<table border=\"1\" class=\"dataframe\">\n",
       "  <thead>\n",
       "    <tr style=\"text-align: right;\">\n",
       "      <th></th>\n",
       "      <th>0</th>\n",
       "      <th>1</th>\n",
       "      <th>2</th>\n",
       "      <th>3</th>\n",
       "      <th>4</th>\n",
       "      <th>5</th>\n",
       "      <th>6</th>\n",
       "      <th>7</th>\n",
       "      <th>8</th>\n",
       "      <th>9</th>\n",
       "    </tr>\n",
       "  </thead>\n",
       "  <tbody>\n",
       "    <tr>\n",
       "      <th>0</th>\n",
       "      <td>0.000000</td>\n",
       "      <td>0.366515</td>\n",
       "      <td>0.530243</td>\n",
       "      <td>0.685212</td>\n",
       "      <td>0.637864</td>\n",
       "      <td>0.474290</td>\n",
       "      <td>0.621992</td>\n",
       "      <td>0.575353</td>\n",
       "      <td>0.438589</td>\n",
       "      <td>0.491407</td>\n",
       "    </tr>\n",
       "    <tr>\n",
       "      <th>1</th>\n",
       "      <td>0.366515</td>\n",
       "      <td>0.000000</td>\n",
       "      <td>0.505941</td>\n",
       "      <td>0.719797</td>\n",
       "      <td>0.472186</td>\n",
       "      <td>0.459604</td>\n",
       "      <td>0.551277</td>\n",
       "      <td>0.476775</td>\n",
       "      <td>0.446234</td>\n",
       "      <td>0.509999</td>\n",
       "    </tr>\n",
       "    <tr>\n",
       "      <th>2</th>\n",
       "      <td>0.530243</td>\n",
       "      <td>0.505941</td>\n",
       "      <td>0.000000</td>\n",
       "      <td>0.580467</td>\n",
       "      <td>0.527394</td>\n",
       "      <td>0.439379</td>\n",
       "      <td>0.614798</td>\n",
       "      <td>0.524209</td>\n",
       "      <td>0.430268</td>\n",
       "      <td>0.466283</td>\n",
       "    </tr>\n",
       "    <tr>\n",
       "      <th>3</th>\n",
       "      <td>0.685212</td>\n",
       "      <td>0.719797</td>\n",
       "      <td>0.580467</td>\n",
       "      <td>0.000000</td>\n",
       "      <td>0.872281</td>\n",
       "      <td>0.768772</td>\n",
       "      <td>1.018840</td>\n",
       "      <td>0.913994</td>\n",
       "      <td>0.656724</td>\n",
       "      <td>0.881711</td>\n",
       "    </tr>\n",
       "    <tr>\n",
       "      <th>4</th>\n",
       "      <td>0.637864</td>\n",
       "      <td>0.472186</td>\n",
       "      <td>0.527394</td>\n",
       "      <td>0.872281</td>\n",
       "      <td>0.000000</td>\n",
       "      <td>0.372797</td>\n",
       "      <td>0.469100</td>\n",
       "      <td>0.350479</td>\n",
       "      <td>0.419442</td>\n",
       "      <td>0.523004</td>\n",
       "    </tr>\n",
       "    <tr>\n",
       "      <th>5</th>\n",
       "      <td>0.474290</td>\n",
       "      <td>0.459604</td>\n",
       "      <td>0.439379</td>\n",
       "      <td>0.768772</td>\n",
       "      <td>0.372797</td>\n",
       "      <td>0.000000</td>\n",
       "      <td>0.454910</td>\n",
       "      <td>0.503081</td>\n",
       "      <td>0.256254</td>\n",
       "      <td>0.494223</td>\n",
       "    </tr>\n",
       "    <tr>\n",
       "      <th>6</th>\n",
       "      <td>0.621992</td>\n",
       "      <td>0.551277</td>\n",
       "      <td>0.614798</td>\n",
       "      <td>1.018840</td>\n",
       "      <td>0.469100</td>\n",
       "      <td>0.454910</td>\n",
       "      <td>0.000000</td>\n",
       "      <td>0.431566</td>\n",
       "      <td>0.594019</td>\n",
       "      <td>0.384573</td>\n",
       "    </tr>\n",
       "    <tr>\n",
       "      <th>7</th>\n",
       "      <td>0.575353</td>\n",
       "      <td>0.476775</td>\n",
       "      <td>0.524209</td>\n",
       "      <td>0.913994</td>\n",
       "      <td>0.350479</td>\n",
       "      <td>0.503081</td>\n",
       "      <td>0.431566</td>\n",
       "      <td>0.000000</td>\n",
       "      <td>0.545555</td>\n",
       "      <td>0.308000</td>\n",
       "    </tr>\n",
       "    <tr>\n",
       "      <th>8</th>\n",
       "      <td>0.438589</td>\n",
       "      <td>0.446234</td>\n",
       "      <td>0.430268</td>\n",
       "      <td>0.656724</td>\n",
       "      <td>0.419442</td>\n",
       "      <td>0.256254</td>\n",
       "      <td>0.594019</td>\n",
       "      <td>0.545555</td>\n",
       "      <td>0.000000</td>\n",
       "      <td>0.560115</td>\n",
       "    </tr>\n",
       "    <tr>\n",
       "      <th>9</th>\n",
       "      <td>0.491407</td>\n",
       "      <td>0.509999</td>\n",
       "      <td>0.466283</td>\n",
       "      <td>0.881711</td>\n",
       "      <td>0.523004</td>\n",
       "      <td>0.494223</td>\n",
       "      <td>0.384573</td>\n",
       "      <td>0.308000</td>\n",
       "      <td>0.560115</td>\n",
       "      <td>0.000000</td>\n",
       "    </tr>\n",
       "  </tbody>\n",
       "</table>\n",
       "</div>"
      ],
      "text/plain": [
       "          0         1         2         3         4         5         6  \\\n",
       "0  0.000000  0.366515  0.530243  0.685212  0.637864  0.474290  0.621992   \n",
       "1  0.366515  0.000000  0.505941  0.719797  0.472186  0.459604  0.551277   \n",
       "2  0.530243  0.505941  0.000000  0.580467  0.527394  0.439379  0.614798   \n",
       "3  0.685212  0.719797  0.580467  0.000000  0.872281  0.768772  1.018840   \n",
       "4  0.637864  0.472186  0.527394  0.872281  0.000000  0.372797  0.469100   \n",
       "5  0.474290  0.459604  0.439379  0.768772  0.372797  0.000000  0.454910   \n",
       "6  0.621992  0.551277  0.614798  1.018840  0.469100  0.454910  0.000000   \n",
       "7  0.575353  0.476775  0.524209  0.913994  0.350479  0.503081  0.431566   \n",
       "8  0.438589  0.446234  0.430268  0.656724  0.419442  0.256254  0.594019   \n",
       "9  0.491407  0.509999  0.466283  0.881711  0.523004  0.494223  0.384573   \n",
       "\n",
       "          7         8         9  \n",
       "0  0.575353  0.438589  0.491407  \n",
       "1  0.476775  0.446234  0.509999  \n",
       "2  0.524209  0.430268  0.466283  \n",
       "3  0.913994  0.656724  0.881711  \n",
       "4  0.350479  0.419442  0.523004  \n",
       "5  0.503081  0.256254  0.494223  \n",
       "6  0.431566  0.594019  0.384573  \n",
       "7  0.000000  0.545555  0.308000  \n",
       "8  0.545555  0.000000  0.560115  \n",
       "9  0.308000  0.560115  0.000000  "
      ]
     },
     "execution_count": 12,
     "metadata": {},
     "output_type": "execute_result"
    }
   ],
   "source": [
    "distances = np.empty((traj.n_frames, traj.n_frames))\n",
    "for i in range(traj.n_frames):\n",
    "    distances[i] = np.concatenate((np.zeros((i+1,), dtype = float),md.rmsd(traj[i+1:], traj, i)))\n",
    "for i in range(traj.n_frames):    \n",
    "    for j in range(i+1, traj.n_frames):\n",
    "        distances[j,i] = distances[i,j]\n",
    "pd.DataFrame(distances)"
   ]
  },
  {
   "cell_type": "markdown",
   "id": "a346dc5c",
   "metadata": {},
   "source": [
    "## Distances between atom pairs\n",
    "Syntax: `md.compute_distances(traj, atom_pairs)`\n",
    "\n",
    "The atoms pairs must be a 2D array\n",
    "\n",
    "You can also choose a frame or slice the trajectory by traj\\[index\\] or traj\\[:\\]"
   ]
  },
  {
   "cell_type": "code",
   "execution_count": 13,
   "id": "e1b81fc7",
   "metadata": {},
   "outputs": [
    {
     "data": {
      "text/plain": [
       "array([[3.5096152],\n",
       "       [4.2567015],\n",
       "       [3.9282374],\n",
       "       [3.0221667],\n",
       "       [4.611256 ],\n",
       "       [3.9118419],\n",
       "       [4.876852 ],\n",
       "       [4.7752786],\n",
       "       [3.7427042],\n",
       "       [4.284359 ]], dtype=float32)"
      ]
     },
     "execution_count": 13,
     "metadata": {},
     "output_type": "execute_result"
    }
   ],
   "source": [
    "# Compute the distance from the first atom to the last atom in each frame\n",
    "md.compute_distances(traj, [[0,206]]) # Instead of [0, 206]"
   ]
  },
  {
   "cell_type": "markdown",
   "id": "2bd1dcda",
   "metadata": {},
   "source": [
    "## Center of mass\n",
    "Syntax: `md.compute_center_of_mass(traj)`"
   ]
  },
  {
   "cell_type": "code",
   "execution_count": 14,
   "id": "2e5bf7ec",
   "metadata": {},
   "outputs": [
    {
     "data": {
      "text/plain": [
       "array([[ 0.06516466, -0.27059172,  0.24396148]])"
      ]
     },
     "execution_count": 14,
     "metadata": {},
     "output_type": "execute_result"
    }
   ],
   "source": [
    "# Compute the center of mass for the 1st frame\n",
    "md.compute_center_of_mass(traj[0])"
   ]
  },
  {
   "cell_type": "markdown",
   "id": "eb68eeff",
   "metadata": {},
   "source": [
    "## Bond angles\n",
    "Syntax: `md.compute_angles(traj, atom_pairs)`\n",
    "\n",
    "Since three points makes an angle, the shape of the `atom_pairs` array should be (any, 3)\n",
    "\n",
    "The angle is different with different combinations \\[(1,2,3) and (1,3,2)\\], sequence matters\n",
    "\n",
    "The output values are **in radians**"
   ]
  },
  {
   "cell_type": "code",
   "execution_count": 15,
   "id": "2b711050",
   "metadata": {},
   "outputs": [
    {
     "data": {
      "text/plain": [
       "array([[0.85182655, 1.9585959 ],\n",
       "       [0.8671579 , 1.9493879 ],\n",
       "       [0.8898469 , 1.9029696 ],\n",
       "       [0.8415426 , 1.9722351 ],\n",
       "       [0.8533788 , 1.9675242 ],\n",
       "       [0.8862655 , 1.9257556 ],\n",
       "       [0.89262086, 1.9146466 ],\n",
       "       [0.88158923, 1.929238  ],\n",
       "       [0.9173416 , 1.8782334 ],\n",
       "       [0.9590764 , 1.8350362 ]], dtype=float32)"
      ]
     },
     "execution_count": 15,
     "metadata": {},
     "output_type": "execute_result"
    }
   ],
   "source": [
    "# Compute the bond angle for the first three atoms with different combinations\n",
    "md.compute_angles(traj, [[0,1,2], [0,2,1]])"
   ]
  },
  {
   "cell_type": "markdown",
   "id": "a53fdf0a",
   "metadata": {},
   "source": [
    "## Dihedral angles\n",
    "Syntax: `md.compute_dihedrals(traj, atom_pairs)`\n",
    "\n",
    "The angle is between the planes spanned by the **first three atoms and the last three atoms**, a torsion around the bond **between the middle two atoms**. Thus, the shape of the `atom_pairs` array should be (any, 4)\n",
    "\n",
    "The angle is different with different combinations \\[(1,2,3,4) and (1,3,2,4)\\], sequence matters\n",
    "\n",
    "The output values are **in radians**"
   ]
  },
  {
   "cell_type": "code",
   "execution_count": 16,
   "id": "020b02d6",
   "metadata": {},
   "outputs": [
    {
     "data": {
      "text/plain": [
       "array([[0.38780627, 0.24913691],\n",
       "       [0.32706693, 0.22300279],\n",
       "       [0.3452081 , 0.24714601],\n",
       "       [0.32840657, 0.20750956],\n",
       "       [0.36724725, 0.23700854],\n",
       "       [0.35468683, 0.25511026],\n",
       "       [0.35093868, 0.2326066 ],\n",
       "       [0.36644608, 0.26423943],\n",
       "       [0.32642913, 0.23825598],\n",
       "       [0.34445974, 0.25956428]], dtype=float32)"
      ]
     },
     "execution_count": 16,
     "metadata": {},
     "output_type": "execute_result"
    }
   ],
   "source": [
    "# Compute the dihedral angle for the first four atoms with different combinations\n",
    "md.compute_dihedrals(traj, [[0,1,2,3], [2,0,1,3]])"
   ]
  },
  {
   "cell_type": "code",
   "execution_count": 17,
   "id": "5680bae4",
   "metadata": {},
   "outputs": [
    {
     "data": {
      "text/plain": [
       "array([[[ 1.57919323e+00, -3.22780997e-01,  8.24259222e-01],\n",
       "        [ 1.18679440e+00, -4.87803817e-02,  3.73079240e-01],\n",
       "        [ 1.13837922e+00, -1.33300215e-01,  5.77075899e-01],\n",
       "        [ 1.24749863e+00, -1.91269785e-01,  7.83605993e-01],\n",
       "        [ 1.38234818e+00,  3.64261270e-02,  2.58797586e-01],\n",
       "        [ 1.27946579e+00, -5.58561683e-02,  2.69635618e-01],\n",
       "        [ 1.30045664e+00,  1.41506284e-01,  4.62674081e-01],\n",
       "        [ 1.24078763e+00,  3.47409844e-02,  7.12875783e-01],\n",
       "        [ 1.63070834e+00, -1.08296797e-01,  8.60405862e-01],\n",
       "        [ 1.39326727e+00,  1.40234083e-01,  3.55101049e-01],\n",
       "        [ 1.46625531e+00, -2.55641848e-01,  8.72481763e-01],\n",
       "        [ 1.71751797e+00, -8.84408206e-02,  3.04578722e-01],\n",
       "        [ 1.49838364e+00, -3.12604308e-02,  2.13548139e-01],\n",
       "        [ 1.82328093e+00, -1.46913916e-01,  5.15432298e-01],\n",
       "        [ 1.76151431e+00,  7.66950985e-03,  6.93304956e-01],\n",
       "        [ 1.80565035e+00, -1.17143556e-01,  6.46088064e-01],\n",
       "        [ 1.63274968e+00,  1.05390146e-01,  3.68098676e-01],\n",
       "        [ 1.37170994e+00,  1.77610487e-01,  5.80475748e-01],\n",
       "        [ 1.33742011e+00,  1.39506429e-01,  7.11068094e-01],\n",
       "        [ 1.57792199e+00,  1.12918928e-01,  7.61229455e-01],\n",
       "        [ 1.34134924e+00, -4.87113386e-01,  4.46674287e-01],\n",
       "        [ 1.38834488e+00, -4.02594954e-01,  3.30492914e-01],\n",
       "        [ 1.23605359e+00, -3.92289549e-01,  4.97739732e-01],\n",
       "        [ 1.20578873e+00, -2.93069750e-01,  4.09048498e-01],\n",
       "        [ 1.76257336e+00, -3.37612540e-01,  6.14051282e-01],\n",
       "        [ 1.51899922e+00, -3.74395281e-01,  3.05296838e-01],\n",
       "        [ 1.34126770e+00, -2.89483935e-01,  8.16923082e-01],\n",
       "        [ 1.68285954e+00, -2.23732859e-01,  2.87073076e-01],\n",
       "        [ 1.46323884e+00, -1.64646059e-01,  1.98343232e-01],\n",
       "        [ 1.79804051e+00, -2.81695753e-01,  4.87917840e-01],\n",
       "        [ 1.23287976e+00, -3.56424242e-01,  6.33041799e-01],\n",
       "        [ 1.74181139e+00,  7.65286237e-02,  4.59840715e-01],\n",
       "        [ 1.72932971e+00,  1.02774218e-01,  5.94300687e-01],\n",
       "        [ 1.44323218e+00,  9.65977460e-02,  7.95119226e-01],\n",
       "        [ 1.50909388e+00,  1.98764890e-01,  5.47204912e-01],\n",
       "        [ 1.45395100e+00, -5.29152751e-01,  5.41095674e-01],\n",
       "        [ 1.59409535e+00, -4.82473284e-01,  5.06975114e-01],\n",
       "        [ 1.44244111e+00, -4.60817248e-01,  6.81100786e-01],\n",
       "        [ 1.66643918e+00, -4.33051974e-01,  6.21197164e-01],\n",
       "        [ 1.67196190e+00,  1.15790963e-02,  7.97060430e-01],\n",
       "        [ 1.29693949e+00, -3.01842600e-01,  3.05286825e-01],\n",
       "        [ 1.32711136e+00, -3.91115099e-01,  7.23578393e-01],\n",
       "        [ 1.56978524e+00, -4.15504366e-01,  7.21338212e-01],\n",
       "        [ 1.17946637e+00, -2.33558089e-01,  6.70327604e-01],\n",
       "        [ 1.76449788e+00, -2.35891253e-01,  7.09549844e-01],\n",
       "        [ 1.62441456e+00, -4.13438708e-01,  3.87751997e-01],\n",
       "        [ 1.56140959e+00, -2.59862810e-01,  2.41963342e-01],\n",
       "        [ 1.15671170e+00, -1.66537195e-01,  4.44648683e-01],\n",
       "        [ 1.33460248e+00, -1.79301172e-01,  2.38486245e-01],\n",
       "        [ 1.61361754e+00,  1.64485067e-01,  6.38828695e-01],\n",
       "        [ 1.72784722e+00, -3.20739657e-01,  3.76165807e-01],\n",
       "        [ 1.67917025e+00, -2.31756598e-01,  8.18809450e-01],\n",
       "        [ 1.19188511e+00,  5.24545312e-02,  4.69896734e-01],\n",
       "        [ 1.16603959e+00, -3.44794872e-03,  5.99014223e-01],\n",
       "        [ 1.27726328e+00, -6.32290095e-02,  8.02978456e-01],\n",
       "        [ 1.49621928e+00, -1.26647860e-01,  8.86589468e-01],\n",
       "        [ 1.62530529e+00,  1.02038980e-02,  2.70523489e-01],\n",
       "        [ 1.78369057e+00, -5.09213805e-02,  4.21766222e-01],\n",
       "        [ 1.40343583e+00, -2.62030959e-02,  8.56666028e-01],\n",
       "        [ 1.52002728e+00,  1.73986524e-01,  4.10331190e-01],\n",
       "        [ 1.28373969e+00, -6.16701007e-01,  4.06827390e-01],\n",
       "        [ 1.33947003e+00, -7.19596744e-01,  4.54283655e-01],\n",
       "        [ 1.45261967e+00, -6.80845141e-01,  5.43966234e-01],\n",
       "        [ 1.53872836e+00, -7.38025546e-01,  5.08439481e-01],\n",
       "        [ 1.43828833e+00, -7.12942004e-01,  6.47459924e-01],\n",
       "        [ 9.46194768e-01, -6.70061946e-01,  1.45204499e-01],\n",
       "        [ 9.28924203e-01, -6.42745376e-01,  2.79784143e-01],\n",
       "        [ 8.30127835e-01, -6.20988250e-01,  3.19553316e-01],\n",
       "        [ 1.03815091e+00, -6.26919627e-01,  3.59653890e-01],\n",
       "        [ 1.01829016e+00, -6.02590442e-01,  4.63718355e-01],\n",
       "        [ 1.17129338e+00, -6.33161426e-01,  3.14226091e-01],\n",
       "        [ 1.07885945e+00, -6.78495288e-01,  9.35268030e-02],\n",
       "        [ 1.09777653e+00, -6.87061667e-01, -1.31716961e-02],\n",
       "        [ 1.18970358e+00, -6.51771903e-01,  1.81461766e-01],\n",
       "        [ 1.29101670e+00, -6.50892615e-01,  1.42083123e-01],\n",
       "        [ 8.20463300e-01, -6.57539248e-01,  5.57913519e-02],\n",
       "        [ 6.91668153e-01, -6.17482066e-01,  1.19136773e-01],\n",
       "        [ 5.99785924e-01, -6.87531352e-01,  1.84358552e-01],\n",
       "        [ 6.02877259e-01, -7.91794658e-01,  2.14225248e-01],\n",
       "        [ 4.99523252e-01, -5.98256946e-01,  2.25624040e-01],\n",
       "        [ 4.13018316e-01, -6.27646327e-01,  2.84151018e-01],\n",
       "        [ 5.29443860e-01, -4.75287825e-01,  1.73130944e-01],\n",
       "        [ 6.36172891e-01, -4.96545225e-01,  9.83142480e-02],\n",
       "        [ 6.65855050e-01, -4.27717596e-01,  3.04689165e-02],\n",
       "        [ 4.56480116e-01, -3.46619040e-01,  1.64974168e-01],\n",
       "        [ 3.83857340e-01, -3.21535498e-01,  2.42148831e-01],\n",
       "        [ 4.57475752e-01, -2.58609205e-01,  6.29071817e-02],\n",
       "        [ 4.87627119e-01, -1.16730615e-01,  8.17746744e-02],\n",
       "        [ 4.94590849e-01, -6.16378188e-02,  1.74987271e-01],\n",
       "        [ 5.03931642e-01, -8.22958201e-02, -5.17797731e-02],\n",
       "        [ 5.21438241e-01,  1.37372613e-02, -9.91444960e-02],\n",
       "        [ 4.68872160e-01, -1.85645968e-01, -1.34841487e-01],\n",
       "        [ 4.50122923e-01, -2.99306780e-01, -6.52676001e-02],\n",
       "        [ 4.62947458e-01, -1.80084139e-01, -2.80966341e-01],\n",
       "        [ 5.35292268e-01, -2.75282294e-01, -3.52611601e-01],\n",
       "        [ 5.90958714e-01, -2.55200773e-01, -4.87178862e-01],\n",
       "        [ 5.67392945e-01, -1.72339350e-01, -5.53140700e-01],\n",
       "        [ 6.83326840e-01, -3.49138170e-01, -5.13975203e-01],\n",
       "        [ 7.23916173e-01, -3.68829638e-01, -6.12651885e-01],\n",
       "        [ 7.02119946e-01, -4.32379633e-01, -4.05921042e-01],\n",
       "        [ 6.14657998e-01, -3.81275088e-01, -3.12942088e-01],\n",
       "        [ 6.15736604e-01, -4.17043597e-01, -2.18387172e-01],\n",
       "        [ 7.81698346e-01, -5.44825435e-01, -4.04534876e-01],\n",
       "        [ 8.31953168e-01, -5.68285823e-01, -4.98253882e-01],\n",
       "        [ 8.12233090e-01, -6.27520919e-01, -2.96573699e-01],\n",
       "        [ 9.07696843e-01, -7.33716369e-01, -2.77632773e-01],\n",
       "        [ 9.67046857e-01, -7.84134746e-01, -3.53182375e-01],\n",
       "        [ 9.13660645e-01, -7.54970431e-01, -1.43744037e-01],\n",
       "        [ 9.71408486e-01, -8.29810023e-01, -9.04846564e-02],\n",
       "        [ 8.29986215e-01, -6.70233130e-01, -8.26797858e-02],\n",
       "        [ 7.70681977e-01, -5.93447566e-01, -1.72435805e-01],\n",
       "        [ 1.29337400e-01,  3.43037248e-02, -4.60723937e-01],\n",
       "        [ 1.98134989e-01, -6.09468818e-02, -5.36495745e-01],\n",
       "        [ 1.54673189e-01, -1.00104734e-01, -6.28111422e-01],\n",
       "        [ 3.00386518e-01, -1.39507204e-01, -4.76311266e-01],\n",
       "        [ 3.39079469e-01, -2.20137030e-01, -5.38096011e-01],\n",
       "        [ 3.49360079e-01, -1.07578203e-01, -3.47768366e-01],\n",
       "        [ 1.68456644e-01,  6.34151250e-02, -3.29717696e-01],\n",
       "        [ 1.10657789e-01,  1.23936251e-01, -2.60347903e-01],\n",
       "        [ 2.74070352e-01, -1.23800635e-02, -2.76479781e-01],\n",
       "        [ 3.02948087e-01,  9.97603755e-04, -1.72543570e-01],\n",
       "        [ 1.78566948e-02,  9.84345227e-02, -5.24601042e-01],\n",
       "        [ 2.48790756e-02,  8.99759084e-02, -6.24900401e-01],\n",
       "        [-9.53253731e-02,  1.57574266e-01, -4.87420142e-01],\n",
       "        [-1.29909903e-01,  1.64523214e-01, -3.73112261e-01],\n",
       "        [-1.82627589e-01,  2.20424742e-01, -5.93105853e-01],\n",
       "        [-3.18704516e-01,  2.50210851e-01, -5.66988528e-01],\n",
       "        [-3.61717612e-01,  2.52850145e-01, -4.67196047e-01],\n",
       "        [-4.02283102e-01,  2.87559599e-01, -6.70421660e-01],\n",
       "        [-3.50555807e-01,  3.03468317e-01, -7.97033370e-01],\n",
       "        [-4.10386473e-01,  3.45465273e-01, -8.77484143e-01],\n",
       "        [-2.20675379e-01,  2.77824491e-01, -8.28911841e-01],\n",
       "        [-1.84393793e-01,  2.90785879e-01, -9.30554926e-01],\n",
       "        [-1.33289248e-01,  2.40083307e-01, -7.26761878e-01],\n",
       "        [-3.03935036e-02,  2.12805837e-01, -7.48767436e-01],\n",
       "        [-5.42638183e-01,  3.16221803e-01, -6.38795435e-01],\n",
       "        [-5.73264956e-01,  2.92186826e-01, -5.37092268e-01],\n",
       "        [-6.37460589e-01,  3.63348097e-01, -7.23211348e-01],\n",
       "        [-6.13433719e-01,  3.88174146e-01, -8.26486170e-01],\n",
       "        [-7.78538108e-01,  3.70089144e-01, -6.90525115e-01],\n",
       "        [-8.66570830e-01,  4.00161356e-01, -8.03797781e-01],\n",
       "        [-8.12145114e-01,  4.14674848e-01, -8.97349179e-01],\n",
       "        [-9.30170894e-01,  4.84509081e-01, -7.76138365e-01],\n",
       "        [-9.25106645e-01,  3.09499830e-01, -8.20491374e-01],\n",
       "        [-8.27343345e-01,  3.02643389e-01, -5.83176672e-01],\n",
       "        [-7.71249652e-01,  2.67602056e-01, -4.96662199e-01],\n",
       "        [-9.73592162e-01,  2.95111269e-01, -5.50550520e-01],\n",
       "        [-1.04327071e+00,  3.47458929e-01, -6.15847647e-01],\n",
       "        [-1.02495015e+00,  2.37970442e-01, -4.37456667e-01],\n",
       "        [-9.58281398e-01,  1.91117853e-01, -3.65212500e-01],\n",
       "        [-1.16868722e+00,  2.33221143e-01, -4.05845702e-01],\n",
       "        [-1.20897043e+00,  1.20225504e-01, -3.21896613e-01],\n",
       "        [-1.30447733e+00,  7.58324414e-02, -3.50744784e-01],\n",
       "        [-1.13248956e+00,  4.58584428e-02, -3.45238268e-01],\n",
       "        [-1.20208681e+00,  1.55583471e-01, -2.18809173e-01],\n",
       "        [-1.25560963e+00,  3.27591032e-01, -4.25015986e-01],\n",
       "        [-1.21330512e+00,  4.16365713e-01, -4.71798003e-01],\n",
       "        [-1.39391792e+00,  3.46891969e-01, -3.78724635e-01],\n",
       "        [-1.43683064e+00,  2.51156420e-01, -3.49527895e-01],\n",
       "        [-1.46700943e+00,  4.55400556e-01, -3.80875170e-01],\n",
       "        [-1.41693890e+00,  5.42894483e-01, -4.22071040e-01],\n",
       "        [-1.60691917e+00,  4.62905020e-01, -3.44450057e-01],\n",
       "        [-1.63653576e+00,  4.03095335e-01, -2.58398592e-01],\n",
       "        [-1.69770110e+00,  5.37208200e-01, -3.98341238e-01],\n",
       "        [-1.65432680e+00,  6.32668614e-01, -5.10684073e-01],\n",
       "        [-1.63274968e+00,  5.86464524e-01, -6.07245982e-01],\n",
       "        [-1.74163926e+00,  6.97088361e-01, -5.22986472e-01],\n",
       "        [-1.56906259e+00,  6.93531632e-01, -4.79857028e-01],\n",
       "        [-1.82719791e+00,  5.40432572e-01, -3.48131239e-01],\n",
       "        [-1.90074718e+00,  5.62048554e-01, -4.25477564e-01],\n",
       "        [-1.86366761e+00,  5.30416608e-01, -2.17624709e-01],\n",
       "        [-1.77995551e+00,  5.39371610e-01, -1.48550078e-01],\n",
       "        [-2.00586867e+00,  5.31821370e-01, -1.64300963e-01],\n",
       "        [-2.08371520e+00,  5.48157811e-01, -2.38679931e-01],\n",
       "        [-2.03949523e+00,  5.19664884e-01, -3.75752710e-02],\n",
       "        [-1.93718755e+00,  4.98444170e-01,  7.15646371e-02],\n",
       "        [-1.85685909e+00,  4.26176637e-01,  5.57737090e-02],\n",
       "        [-1.88589847e+00,  5.93696237e-01,  8.64352807e-02],\n",
       "        [-1.98196638e+00,  4.81402963e-01,  1.69692472e-01],\n",
       "        [-2.17921567e+00,  5.36683679e-01, -1.63319113e-03],\n",
       "        [-2.19602633e+00,  5.74234605e-01,  9.91959199e-02],\n",
       "        [-2.27768064e+00,  4.95496362e-01, -7.89680853e-02],\n",
       "        [-2.25391197e+00,  4.48920816e-01, -1.74493834e-01],\n",
       "        [-2.42132950e+00,  5.07665753e-01, -5.95760606e-02],\n",
       "        [-2.47036290e+00,  6.29891992e-01, -4.01745103e-02],\n",
       "        [-2.38941431e+00,  7.61376500e-01, -2.93150190e-02],\n",
       "        [-2.45823097e+00,  8.45863461e-01, -3.64380144e-02],\n",
       "        [-2.33967066e+00,  7.71190763e-01,  6.74004182e-02],\n",
       "        [-2.31361437e+00,  7.71588922e-01, -1.07255973e-01],\n",
       "        [-2.61291051e+00,  6.59948945e-01, -4.66752313e-02],\n",
       "        [-2.64407969e+00,  7.02321649e-01, -1.42371222e-01],\n",
       "        [-2.63067985e+00,  7.42789388e-01,  2.22186800e-02],\n",
       "        [-2.70246506e+00,  5.40259957e-01, -5.91471186e-03],\n",
       "        [-2.80714297e+00,  5.70444226e-01, -1.34072537e-02],\n",
       "        [-2.68196607e+00,  5.06120801e-01,  9.57660303e-02],\n",
       "        [-2.65821457e+00,  4.40014929e-01, -1.12632789e-01],\n",
       "        [-2.72366834e+00,  3.53289217e-01, -1.23546638e-01],\n",
       "        [-2.66532207e+00,  4.87232298e-01, -2.10839793e-01],\n",
       "        [-2.51012921e+00,  3.93994421e-01, -9.48396102e-02],\n",
       "        [-2.52071834e+00,  2.87077993e-01,  1.78618189e-02],\n",
       "        [-2.52031064e+00,  3.33372205e-01,  1.16762124e-01],\n",
       "        [-2.59961295e+00,  2.14488119e-01, -2.89919320e-03],\n",
       "        [-2.43281984e+00,  2.22939104e-01,  8.66124686e-03],\n",
       "        [-2.47113299e+00,  3.26361746e-01, -2.23995253e-01],\n",
       "        [-2.37993431e+00,  2.66700834e-01, -2.30924651e-01],\n",
       "        [-2.55186820e+00,  2.57101148e-01, -2.48681590e-01],\n",
       "        [-2.46090937e+00,  3.96878809e-01, -3.06745589e-01]]],\n",
       "      dtype=float32)"
      ]
     },
     "execution_count": 17,
     "metadata": {},
     "output_type": "execute_result"
    }
   ],
   "source": [
    "traj[1].xyz"
   ]
  },
  {
   "cell_type": "code",
   "execution_count": 18,
   "id": "ad3c678c",
   "metadata": {},
   "outputs": [
    {
     "data": {
      "text/plain": [
       "<mdtraj.Trajectory with 10 frames, 207 atoms, 1 residues, and unitcells at 0x254a1543430>"
      ]
     },
     "execution_count": 18,
     "metadata": {},
     "output_type": "execute_result"
    }
   ],
   "source": [
    "traj.superpose(traj)"
   ]
  },
  {
   "cell_type": "code",
   "execution_count": 19,
   "id": "cf54ab76",
   "metadata": {},
   "outputs": [
    {
     "data": {
      "text/plain": [
       "array([[[ 6.17751479e-01, -1.37892151e+00,  9.97196198e-01],\n",
       "        [ 1.54745251e-01, -1.01454413e+00,  7.04842329e-01],\n",
       "        [ 3.75182420e-01, -1.03510416e+00,  6.59158647e-01],\n",
       "        [ 5.59357822e-01, -1.18423581e+00,  7.01127172e-01],\n",
       "        [-1.50748668e-02, -1.14389050e+00,  8.18826258e-01],\n",
       "        [ 6.11658506e-02, -1.02874207e+00,  8.06724310e-01],\n",
       "        [ 1.02873057e-01, -1.23412752e+00,  6.25799656e-01],\n",
       "        [ 3.75037670e-01, -1.25759792e+00,  5.71617603e-01],\n",
       "        [ 5.18022299e-01, -1.53989017e+00,  8.78423095e-01],\n",
       "        [ 2.63869483e-03, -1.24932885e+00,  7.25345433e-01],\n",
       "        [ 6.35540783e-01, -1.35340178e+00,  8.60739827e-01],\n",
       "        [ 4.32020538e-02, -1.34684193e+00,  1.11112916e+00],\n",
       "        [-3.06010284e-02, -1.17280626e+00,  9.56724763e-01],\n",
       "        [ 2.31664747e-01, -1.49535859e+00,  1.14971352e+00],\n",
       "        [ 2.97524512e-01, -1.61229086e+00,  9.46393251e-01],\n",
       "        [ 3.23371768e-01, -1.55982316e+00,  1.07420087e+00],\n",
       "        [-2.49219220e-03, -1.41187036e+00,  9.05036211e-01],\n",
       "        [ 1.67432308e-01, -1.36001682e+00,  6.10251009e-01],\n",
       "        [ 2.99976647e-01, -1.37872350e+00,  5.68249524e-01],\n",
       "        [ 3.20158780e-01, -1.56387067e+00,  7.30660796e-01],\n",
       "        [ 4.39739823e-01, -9.44457233e-01,  1.07268095e+00],\n",
       "        [ 2.90727019e-01, -9.64864552e-01,  1.08780682e+00],\n",
       "        [ 4.43031549e-01, -9.39562678e-01,  9.22176361e-01],\n",
       "        [ 3.19408655e-01, -9.24399674e-01,  8.66371930e-01],\n",
       "        [ 4.28574860e-01, -1.40396965e+00,  1.20120704e+00],\n",
       "        [ 2.35017359e-01, -1.06150699e+00,  1.16563547e+00],\n",
       "        [ 6.28119230e-01, -1.21944928e+00,  8.17662895e-01],\n",
       "        [ 1.10722810e-01, -1.24627018e+00,  1.18280792e+00],\n",
       "        [ 3.77780981e-02, -1.07392728e+00,  1.02604532e+00],\n",
       "        [ 2.89387941e-01, -1.39708006e+00,  1.23076689e+00],\n",
       "        [ 5.32919049e-01, -1.01975083e+00,  8.50810111e-01],\n",
       "        [ 7.21252561e-02, -1.52049506e+00,  9.66493487e-01],\n",
       "        [ 1.68151766e-01, -1.58876383e+00,  8.95483911e-01],\n",
       "        [ 3.76790136e-01, -1.47434986e+00,  6.39363647e-01],\n",
       "        [ 1.08168364e-01, -1.45418274e+00,  6.99969113e-01],\n",
       "        [ 5.23467243e-01, -1.05039597e+00,  1.14429474e+00],\n",
       "        [ 4.48655486e-01, -1.15881157e+00,  1.21934724e+00],\n",
       "        [ 6.00018263e-01, -1.14288890e+00,  1.04435146e+00],\n",
       "        [ 5.02611339e-01, -1.29038191e+00,  1.19696915e+00],\n",
       "        [ 3.92688274e-01, -1.59893310e+00,  8.48589659e-01],\n",
       "        [ 2.26756901e-01, -9.36501980e-01,  9.68455613e-01],\n",
       "        [ 6.12051129e-01, -1.11415851e+00,  9.06534612e-01],\n",
       "        [ 5.88172674e-01, -1.27690935e+00,  1.08662486e+00],\n",
       "        [ 5.01491666e-01, -1.05977869e+00,  7.21390605e-01],\n",
       "        [ 4.48146522e-01, -1.50146842e+00,  1.10332012e+00],\n",
       "        [ 3.08406919e-01, -1.15799880e+00,  1.23447549e+00],\n",
       "        [ 1.12547144e-01, -1.11874509e+00,  1.14009535e+00],\n",
       "        [ 2.83897668e-01, -9.68582392e-01,  7.38023639e-01],\n",
       "        [ 9.76425931e-02, -9.92611289e-01,  9.35615838e-01],\n",
       "        [ 1.86428130e-01, -1.55677485e+00,  7.61981189e-01],\n",
       "        [ 2.31242210e-01, -1.27339494e+00,  1.24692512e+00],\n",
       "        [ 5.47021985e-01, -1.49391711e+00,  1.00635529e+00],\n",
       "        [ 1.75193861e-01, -1.11472762e+00,  6.08961344e-01],\n",
       "        [ 3.15370411e-01, -1.13002610e+00,  5.84859550e-01],\n",
       "        [ 4.98179555e-01, -1.27855790e+00,  6.30301833e-01],\n",
       "        [ 5.69523931e-01, -1.44582295e+00,  7.91195631e-01],\n",
       "        [-2.66317166e-02, -1.31261718e+00,  9.95605886e-01],\n",
       "        [ 1.07213035e-01, -1.46945620e+00,  1.09143722e+00],\n",
       "        [ 5.02106071e-01, -1.41405284e+00,  6.72710061e-01],\n",
       "        [ 9.58263595e-03, -1.38436449e+00,  7.69784689e-01],\n",
       "        [ 4.89305854e-01, -8.19391847e-01,  1.13269281e+00],\n",
       "        [ 5.77806294e-01, -8.31472039e-01,  1.22195208e+00],\n",
       "        [ 6.11870944e-01, -9.75596666e-01,  1.24232769e+00],\n",
       "        [ 6.02704883e-01, -9.92676973e-01,  1.34989488e+00],\n",
       "        [ 7.16088653e-01, -9.98789907e-01,  1.21893370e+00],\n",
       "        [ 3.57244998e-01, -4.23130780e-01,  1.02892578e+00],\n",
       "        [ 4.53470111e-01, -4.88516390e-01,  9.53948319e-01],\n",
       "        [ 4.88006353e-01, -4.46705252e-01,  8.59742463e-01],\n",
       "        [ 4.93136048e-01, -6.13738120e-01,  9.90090132e-01],\n",
       "        [ 5.66689014e-01, -6.61171317e-01,  9.25624490e-01],\n",
       "        [ 4.40150380e-01, -6.85432792e-01,  1.09909451e+00],\n",
       "        [ 3.00502360e-01, -4.90403622e-01,  1.14115870e+00],\n",
       "        [ 2.16028884e-01, -4.48841602e-01,  1.19549692e+00],\n",
       "        [ 3.40300143e-01, -6.26057863e-01,  1.16849339e+00],\n",
       "        [ 2.92893231e-01, -6.81102931e-01,  1.24935389e+00],\n",
       "        [ 2.96230197e-01, -2.95435488e-01,  9.66227770e-01],\n",
       "        [ 3.43959361e-01, -2.52226382e-01,  8.31839025e-01],\n",
       "        [ 4.50089633e-01, -1.82083428e-01,  7.94163346e-01],\n",
       "        [ 5.32880604e-01, -1.46915525e-01,  8.54836941e-01],\n",
       "        [ 4.47831929e-01, -1.73399195e-01,  6.54003263e-01],\n",
       "        [ 5.24719059e-01, -1.24111123e-01,  5.95426023e-01],\n",
       "        [ 3.31222504e-01, -2.30950594e-01,  6.10849440e-01],\n",
       "        [ 2.66809016e-01, -2.61998594e-01,  7.21878350e-01],\n",
       "        [ 1.68436572e-01, -2.85192400e-01,  7.19394147e-01],\n",
       "        [ 2.62548089e-01, -2.37950608e-01,  4.79774207e-01],\n",
       "        [ 3.21666420e-01, -2.34650820e-01,  3.88377726e-01],\n",
       "        [ 1.29803985e-01, -2.33493581e-01,  4.56893563e-01],\n",
       "        [ 6.03248961e-02, -3.34715068e-01,  3.77385795e-01],\n",
       "        [ 1.03696108e-01, -4.11655694e-01,  3.14366907e-01],\n",
       "        [-6.98858574e-02, -2.99734980e-01,  4.10701483e-01],\n",
       "        [-1.65251970e-01, -3.37385595e-01,  3.75205159e-01],\n",
       "        [-7.35520273e-02, -1.83357030e-01,  4.83174950e-01],\n",
       "        [ 4.99880128e-02, -1.46687448e-01,  5.21956921e-01],\n",
       "        [-1.94324940e-01, -1.11936472e-01,  5.24786353e-01],\n",
       "        [-2.09223494e-01, -8.29172656e-02,  6.60305500e-01],\n",
       "        [-3.37947726e-01, -6.88700452e-02,  7.29897976e-01],\n",
       "        [-4.34867263e-01, -6.13230206e-02,  6.81711197e-01],\n",
       "        [-3.20149481e-01, -7.64395222e-02,  8.62939596e-01],\n",
       "        [-3.95022660e-01, -4.89084460e-02,  9.36481357e-01],\n",
       "        [-1.88174546e-01, -1.00468807e-01,  8.93975794e-01],\n",
       "        [-1.28777891e-01, -1.06871240e-01,  7.70131528e-01],\n",
       "        [-3.20081152e-02, -1.35139853e-01,  7.62536883e-01],\n",
       "        [-1.35152936e-01, -1.03068866e-01,  1.02110028e+00],\n",
       "        [-2.05300614e-01, -8.30466673e-02,  1.10195577e+00],\n",
       "        [-5.29808085e-03, -1.35835856e-01,  1.05970824e+00],\n",
       "        [ 5.60729466e-02, -1.61445484e-01,  1.18748653e+00],\n",
       "        [ 1.45773562e-02, -1.43340379e-01,  1.28608930e+00],\n",
       "        [ 1.75801232e-01, -2.19262555e-01,  1.16036034e+00],\n",
       "        [ 2.52825826e-01, -2.49490380e-01,  1.23054457e+00],\n",
       "        [ 1.89716041e-01, -2.29822308e-01,  1.02767456e+00],\n",
       "        [ 8.22228640e-02, -1.81976736e-01,  9.67465043e-01],\n",
       "        [-4.12161797e-01,  1.09574325e-01,  2.19744310e-01],\n",
       "        [-4.29852784e-01,  1.43164411e-01,  3.54302406e-01],\n",
       "        [-4.75555629e-01,  2.37898365e-01,  3.81732792e-01],\n",
       "        [-3.51683915e-01,  7.92087093e-02,  4.54544991e-01],\n",
       "        [-3.61859739e-01,  1.20683603e-01,  5.54504752e-01],\n",
       "        [-2.72757143e-01, -3.35969366e-02,  4.23134893e-01],\n",
       "        [-3.28185678e-01,  4.13091108e-03,  1.82729244e-01],\n",
       "        [-2.97650397e-01, -1.71519928e-02,  8.06003138e-02],\n",
       "        [-2.57712543e-01, -6.03107847e-02,  2.85754681e-01],\n",
       "        [-1.85267538e-01, -1.37583509e-01,  2.61336058e-01],\n",
       "        [-4.83791947e-01,  1.89140201e-01,  1.24039598e-01],\n",
       "        [-5.61378837e-01,  2.36210838e-01,  1.68146774e-01],\n",
       "        [-4.70392019e-01,  2.24083513e-01, -3.59076797e-03],\n",
       "        [-3.76516253e-01,  1.91041604e-01, -6.99703023e-02],\n",
       "        [-5.78775823e-01,  3.06751847e-01, -6.80906400e-02],\n",
       "        [-5.54345548e-01,  3.78135860e-01, -1.88064530e-01],\n",
       "        [-4.68555331e-01,  3.60282391e-01, -2.52383471e-01],\n",
       "        [-6.47015452e-01,  4.69671100e-01, -2.34024435e-01],\n",
       "        [-7.66343474e-01,  4.84837919e-01, -1.67016119e-01],\n",
       "        [-8.46517563e-01,  5.45862675e-01, -2.07806826e-01],\n",
       "        [-7.96874881e-01,  4.18647289e-01, -5.19970097e-02],\n",
       "        [-8.92003059e-01,  4.34530854e-01, -1.85701787e-03],\n",
       "        [-7.05586255e-01,  3.25160205e-01, -2.78437673e-03],\n",
       "        [-7.23197758e-01,  2.74619013e-01,  9.18267295e-02],\n",
       "        [-6.16849184e-01,  5.42078972e-01, -3.57993722e-01],\n",
       "        [-5.16238987e-01,  5.27557611e-01, -3.97056937e-01],\n",
       "        [-6.97970510e-01,  6.27822399e-01, -4.24368441e-01],\n",
       "        [-7.99327612e-01,  6.47487402e-01, -3.89736831e-01],\n",
       "        [-6.54427409e-01,  7.11115241e-01, -5.34744978e-01],\n",
       "        [-7.50298798e-01,  8.14192593e-01, -5.75592756e-01],\n",
       "        [-8.42425525e-01,  8.12284172e-01, -5.16995072e-01],\n",
       "        [-7.66220212e-01,  8.05249751e-01, -6.83254659e-01],\n",
       "        [-7.03857303e-01,  9.09557462e-01, -5.49643874e-01],\n",
       "        [-5.21975696e-01,  7.28594184e-01, -5.59354007e-01],\n",
       "        [-4.40269768e-01,  6.63929939e-01, -5.27702332e-01],\n",
       "        [-4.69636351e-01,  8.22740853e-01, -6.63790107e-01],\n",
       "        [-5.41925907e-01,  8.78525376e-01, -7.23131478e-01],\n",
       "        [-3.37982118e-01,  8.34213436e-01, -6.98839664e-01],\n",
       "        [-2.62724936e-01,  7.74563909e-01, -6.47484064e-01],\n",
       "        [-2.88412690e-01,  9.25645173e-01, -8.03076267e-01],\n",
       "        [-1.50408760e-01,  9.70720172e-01, -7.84066677e-01],\n",
       "        [-1.34553686e-01,  1.07575893e+00, -8.09364796e-01],\n",
       "        [-1.38540193e-01,  9.63312447e-01, -6.75766766e-01],\n",
       "        [-8.78450423e-02,  8.98899257e-01, -8.37472081e-01],\n",
       "        [-3.44537348e-01,  9.51035917e-01, -9.17242885e-01],\n",
       "        [-4.38987017e-01,  8.98729205e-01, -9.31471407e-01],\n",
       "        [-2.97481120e-01,  1.01958776e+00, -1.03861403e+00],\n",
       "        [-2.13261485e-01,  1.08419633e+00, -1.01428246e+00],\n",
       "        [-3.49852383e-01,  1.01980293e+00, -1.15852368e+00],\n",
       "        [-4.40194786e-01,  9.59830344e-01, -1.16856682e+00],\n",
       "        [-3.03882062e-01,  1.10008287e+00, -1.26987779e+00],\n",
       "        [-1.95860431e-01,  1.11005116e+00, -1.27942562e+00],\n",
       "        [-3.76232564e-01,  1.15482509e+00, -1.36172140e+00],\n",
       "        [-5.27791917e-01,  1.12978220e+00, -1.35753155e+00],\n",
       "        [-5.83130121e-01,  1.18322849e+00, -1.28003478e+00],\n",
       "        [-5.61333477e-01,  1.16702008e+00, -1.45455253e+00],\n",
       "        [-5.49852550e-01,  1.02305651e+00, -1.35063815e+00],\n",
       "        [-3.18199337e-01,  1.22308600e+00, -1.46789789e+00],\n",
       "        [-3.82289678e-01,  1.30267525e+00, -1.50554347e+00],\n",
       "        [-2.01304123e-01,  1.19207466e+00, -1.52983439e+00],\n",
       "        [-1.62731364e-01,  1.09391761e+00, -1.50269520e+00],\n",
       "        [-1.37837887e-01,  1.26895785e+00, -1.64440989e+00],\n",
       "        [-1.95897698e-01,  1.35286057e+00, -1.68247020e+00],\n",
       "        [-2.32171677e-02,  1.23875499e+00, -1.70174932e+00],\n",
       "        [ 6.21815771e-02,  1.12291777e+00, -1.65573311e+00],\n",
       "        [ 7.84161091e-02,  1.10806894e+00, -1.54877257e+00],\n",
       "        [ 1.27339931e-02,  1.03140187e+00, -1.68896627e+00],\n",
       "        [ 1.58024728e-01,  1.11689770e+00, -1.70771837e+00],\n",
       "        [ 1.69470683e-02,  1.31441140e+00, -1.81907892e+00],\n",
       "        [ 7.99400806e-02,  1.25975943e+00, -1.88910878e+00],\n",
       "        [-7.89581519e-03,  1.44319367e+00, -1.83213270e+00],\n",
       "        [-6.25073761e-02,  1.49474001e+00, -1.75326610e+00],\n",
       "        [ 2.21732482e-02,  1.53201711e+00, -1.94333255e+00],\n",
       "        [-2.40425058e-02,  1.49768448e+00, -2.06335473e+00],\n",
       "        [-1.01639464e-01,  1.36862326e+00, -2.09914112e+00],\n",
       "        [-1.45075500e-01,  1.38002729e+00, -2.19867921e+00],\n",
       "        [-3.61169837e-02,  1.28144467e+00, -2.10474014e+00],\n",
       "        [-1.81831270e-01,  1.34588730e+00, -2.02859282e+00],\n",
       "        [-2.52607577e-02,  1.58922422e+00, -2.17686462e+00],\n",
       "        [-1.22247130e-01,  1.63657677e+00, -2.19347954e+00],\n",
       "        [-1.36639988e-02,  1.52808583e+00, -2.26659918e+00],\n",
       "        [ 8.87915790e-02,  1.69398904e+00, -2.17203808e+00],\n",
       "        [ 8.10994208e-02,  1.75848806e+00, -2.25981832e+00],\n",
       "        [ 1.87547073e-01,  1.64742684e+00, -2.17004180e+00],\n",
       "        [ 5.24605922e-02,  1.76264918e+00, -2.04027414e+00],\n",
       "        [ 1.02383532e-01,  1.85831356e+00, -2.02351999e+00],\n",
       "        [-5.28613515e-02,  1.79135847e+00, -2.04304409e+00],\n",
       "        [ 7.10555390e-02,  1.66960907e+00, -1.91633248e+00],\n",
       "        [ 2.24545419e-01,  1.67639422e+00, -1.89104056e+00],\n",
       "        [ 2.78479338e-01,  1.60584819e+00, -1.95459354e+00],\n",
       "        [ 2.60466635e-01,  1.77950275e+00, -1.88931918e+00],\n",
       "        [ 2.40403518e-01,  1.64887607e+00, -1.78656161e+00],\n",
       "        [-1.15770381e-03,  1.73663998e+00, -1.80201638e+00],\n",
       "        [ 1.35192396e-02,  1.70342338e+00, -1.69903159e+00],\n",
       "        [ 2.99674831e-02,  1.84130943e+00, -1.80240250e+00],\n",
       "        [-1.09697655e-01,  1.73384237e+00, -1.81368041e+00]]],\n",
       "      dtype=float32)"
      ]
     },
     "execution_count": 19,
     "metadata": {},
     "output_type": "execute_result"
    }
   ],
   "source": [
    "traj[1].xyz"
   ]
  },
  {
   "cell_type": "code",
   "execution_count": null,
   "id": "c72403e3",
   "metadata": {},
   "outputs": [],
   "source": []
  }
 ],
 "metadata": {
  "kernelspec": {
   "display_name": "Python 3",
   "language": "python",
   "name": "python3"
  },
  "language_info": {
   "codemirror_mode": {
    "name": "ipython",
    "version": 3
   },
   "file_extension": ".py",
   "mimetype": "text/x-python",
   "name": "python",
   "nbconvert_exporter": "python",
   "pygments_lexer": "ipython3",
   "version": "3.8.10"
  }
 },
 "nbformat": 4,
 "nbformat_minor": 5
}
