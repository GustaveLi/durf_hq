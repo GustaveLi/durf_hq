{
 "cells": [
  {
   "cell_type": "code",
   "execution_count": 31,
   "id": "0b47c4e5",
   "metadata": {},
   "outputs": [],
   "source": [
    "import mdtraj as md\n",
    "import numpy as np\n",
    "import pandas as pd\n",
    "import matplotlib.pyplot as plt\n",
    "from mpl_toolkits import mplot3d"
   ]
  },
  {
   "cell_type": "markdown",
   "id": "e0b5c3b1",
   "metadata": {},
   "source": [
    "# Basics"
   ]
  },
  {
   "cell_type": "markdown",
   "id": "697ecd79",
   "metadata": {},
   "source": [
    "## Load trajectory"
   ]
  },
  {
   "cell_type": "code",
   "execution_count": 4,
   "id": "7a64deff",
   "metadata": {},
   "outputs": [
    {
     "name": "stdout",
     "output_type": "stream",
     "text": [
      "<mdtraj.Trajectory with 100000 frames, 207 atoms, 1 residues, and unitcells>\n"
     ]
    }
   ],
   "source": [
    "# To load files that don’t contain topology information, we need to supply something with the top keyword argument\n",
    "traj = md.load('/DURF_datasets/triad_molecule/triad_dataset.nc', top= '/DURF_datasets/triad_molecule/triad_forcefield_ground.prmtop')\n",
    "print(traj)"
   ]
  },
  {
   "cell_type": "markdown",
   "id": "4bb8457c",
   "metadata": {},
   "source": [
    "## Slice the frames"
   ]
  },
  {
   "cell_type": "code",
   "execution_count": 5,
   "id": "8542a16b",
   "metadata": {},
   "outputs": [
    {
     "name": "stdout",
     "output_type": "stream",
     "text": [
      "<mdtraj.Trajectory with 10 frames, 207 atoms, 1 residues, and unitcells>\n",
      "<mdtraj.Trajectory with 5 frames, 207 atoms, 1 residues, and unitcells>\n"
     ]
    }
   ],
   "source": [
    "# Pretty much like slicing a list\n",
    "print(traj[:10])\n",
    "print(traj[:10:2])"
   ]
  },
  {
   "cell_type": "markdown",
   "id": "0df69211",
   "metadata": {},
   "source": [
    "## Save traj back to disk"
   ]
  },
  {
   "cell_type": "code",
   "execution_count": 6,
   "id": "1f65fd31",
   "metadata": {},
   "outputs": [],
   "source": [
    "# The format will be parsed based on the extension\n",
    "# Choose several frames for the tutorial, try not to touch the full dataset\n",
    "traj[::10000].save('/DURF_datasets/triad_molecule/for_tutorial.h5')"
   ]
  },
  {
   "cell_type": "code",
   "execution_count": 7,
   "id": "a978d8a3",
   "metadata": {},
   "outputs": [],
   "source": [
    "# Load the subset for tutorial\n",
    "traj = md.load('/DURF_datasets/triad_molecule/for_tutorial.h5')"
   ]
  },
  {
   "cell_type": "markdown",
   "id": "cfd5f8b8",
   "metadata": {},
   "source": [
    "## # of atoms, residues, and frames"
   ]
  },
  {
   "cell_type": "code",
   "execution_count": 8,
   "id": "1a53754b",
   "metadata": {},
   "outputs": [
    {
     "name": "stdout",
     "output_type": "stream",
     "text": [
      "207\n",
      "1\n",
      "10\n"
     ]
    }
   ],
   "source": [
    "print(traj.n_atoms)\n",
    "print(traj.n_residues)\n",
    "print(traj.n_frames)"
   ]
  },
  {
   "cell_type": "markdown",
   "id": "b0a5c5e1",
   "metadata": {},
   "source": [
    "## Cartesian coordinates"
   ]
  },
  {
   "cell_type": "code",
   "execution_count": 9,
   "id": "1ebac0fa",
   "metadata": {},
   "outputs": [
    {
     "name": "stdout",
     "output_type": "stream",
     "text": [
      "(10, 207, 3)\n",
      "(5.6700797, 3.2196846, 4.0595813)\n"
     ]
    }
   ],
   "source": [
    "# The Cartesian coordinates are stored in an ndarray xyz\n",
    "print (traj.xyz.shape)\n",
    "# Display the coordinate of the 8th atom at the 5th frame\n",
    "print(tuple(traj.xyz[4,7,:]))"
   ]
  },
  {
   "cell_type": "markdown",
   "id": "5312d32a",
   "metadata": {},
   "source": [
    "# Topology Object"
   ]
  },
  {
   "cell_type": "markdown",
   "id": "e68fea8b",
   "metadata": {},
   "source": [
    "## Topology\n",
    "The `Topology` of a `Trajectory` contains all the connectivity information of your system and specific chain, residue, and atom information"
   ]
  },
  {
   "cell_type": "code",
   "execution_count": 10,
   "id": "665b38d1",
   "metadata": {},
   "outputs": [
    {
     "data": {
      "text/plain": [
       "<mdtraj.Topology with 1 chains, 1 residues, 207 atoms, 247 bonds at 0x1897c8f0940>"
      ]
     },
     "execution_count": 10,
     "metadata": {},
     "output_type": "execute_result"
    }
   ],
   "source": [
    "top = traj.topology\n",
    "top"
   ]
  },
  {
   "cell_type": "markdown",
   "id": "c3d5b0eb",
   "metadata": {},
   "source": [
    "## Select an atom / loop through atoms"
   ]
  },
  {
   "cell_type": "code",
   "execution_count": 11,
   "id": "3b746881",
   "metadata": {},
   "outputs": [
    {
     "name": "stdout",
     "output_type": "stream",
     "text": [
      "TRI0-C4\n",
      "[TRI0-C1, TRI0-C2, TRI0-C3, TRI0-C4, TRI0-C5, TRI0-C6, TRI0-C7, TRI0-C8, TRI0-C9, TRI0-C10, TRI0-C11, TRI0-C12, TRI0-C13, TRI0-C14, TRI0-C15, TRI0-C16, TRI0-C17, TRI0-C18, TRI0-C19, TRI0-C20]\n"
     ]
    }
   ],
   "source": [
    "# Select the 4th atom\n",
    "print(top.atom(3)) # Index starts from 0\n",
    "# Loop through the first 20 atoms\n",
    "print([atom for atom in top.atoms if atom.index < 20])"
   ]
  },
  {
   "cell_type": "markdown",
   "id": "8e8af106",
   "metadata": {},
   "source": [
    "## Properties of atoms\n",
    "- index\n",
    "- name\n",
    "- element\n",
    "    - mass\n",
    "    - name\n",
    "    - symbol\n",
    "    - number (atomic)\n",
    "    - radius\n",
    "- n_bonds"
   ]
  },
  {
   "cell_type": "code",
   "execution_count": 12,
   "id": "c76f3f1e",
   "metadata": {},
   "outputs": [
    {
     "data": {
      "text/plain": [
       "3"
      ]
     },
     "execution_count": 12,
     "metadata": {},
     "output_type": "execute_result"
    }
   ],
   "source": [
    "# Want to see the # of bonds for the 5th atom\n",
    "atom = top.atom(4)\n",
    "atom.n_bonds"
   ]
  },
  {
   "cell_type": "markdown",
   "id": "8cad78f6",
   "metadata": {},
   "source": [
    "# Analysis"
   ]
  },
  {
   "cell_type": "markdown",
   "id": "43e28e3a",
   "metadata": {},
   "source": [
    "## RMSD Analysis\n",
    "Basic syntax: `md.rmsd(target_traj, reference_conformation, frame_num, atom_indices)`\n",
    "\n",
    "3rd and 4th arguments are optional: if the reference is a trajectory, then you need to give the frame num. Atom_indices are given when you want to select atoms for the calculation"
   ]
  },
  {
   "cell_type": "markdown",
   "id": "04ae05c1",
   "metadata": {},
   "source": [
    "### Pairwise RMSD\n",
    "Compute the RMSD value for each two pairs of conformation"
   ]
  },
  {
   "cell_type": "code",
   "execution_count": 13,
   "id": "8361293c",
   "metadata": {},
   "outputs": [
    {
     "data": {
      "text/html": [
       "<div>\n",
       "<style scoped>\n",
       "    .dataframe tbody tr th:only-of-type {\n",
       "        vertical-align: middle;\n",
       "    }\n",
       "\n",
       "    .dataframe tbody tr th {\n",
       "        vertical-align: top;\n",
       "    }\n",
       "\n",
       "    .dataframe thead th {\n",
       "        text-align: right;\n",
       "    }\n",
       "</style>\n",
       "<table border=\"1\" class=\"dataframe\">\n",
       "  <thead>\n",
       "    <tr style=\"text-align: right;\">\n",
       "      <th></th>\n",
       "      <th>0</th>\n",
       "      <th>1</th>\n",
       "      <th>2</th>\n",
       "      <th>3</th>\n",
       "      <th>4</th>\n",
       "      <th>5</th>\n",
       "      <th>6</th>\n",
       "      <th>7</th>\n",
       "      <th>8</th>\n",
       "      <th>9</th>\n",
       "    </tr>\n",
       "  </thead>\n",
       "  <tbody>\n",
       "    <tr>\n",
       "      <th>0</th>\n",
       "      <td>0.000000</td>\n",
       "      <td>0.366514</td>\n",
       "      <td>0.530243</td>\n",
       "      <td>0.685211</td>\n",
       "      <td>0.637866</td>\n",
       "      <td>0.474290</td>\n",
       "      <td>0.621992</td>\n",
       "      <td>0.575354</td>\n",
       "      <td>0.438588</td>\n",
       "      <td>0.491408</td>\n",
       "    </tr>\n",
       "    <tr>\n",
       "      <th>1</th>\n",
       "      <td>0.366516</td>\n",
       "      <td>0.000000</td>\n",
       "      <td>0.505941</td>\n",
       "      <td>0.719797</td>\n",
       "      <td>0.472186</td>\n",
       "      <td>0.459605</td>\n",
       "      <td>0.551277</td>\n",
       "      <td>0.476775</td>\n",
       "      <td>0.446234</td>\n",
       "      <td>0.509999</td>\n",
       "    </tr>\n",
       "    <tr>\n",
       "      <th>2</th>\n",
       "      <td>0.530243</td>\n",
       "      <td>0.505941</td>\n",
       "      <td>0.000000</td>\n",
       "      <td>0.580467</td>\n",
       "      <td>0.527394</td>\n",
       "      <td>0.439379</td>\n",
       "      <td>0.614798</td>\n",
       "      <td>0.524209</td>\n",
       "      <td>0.430268</td>\n",
       "      <td>0.466283</td>\n",
       "    </tr>\n",
       "    <tr>\n",
       "      <th>3</th>\n",
       "      <td>0.685212</td>\n",
       "      <td>0.719797</td>\n",
       "      <td>0.580466</td>\n",
       "      <td>0.000000</td>\n",
       "      <td>0.872281</td>\n",
       "      <td>0.768772</td>\n",
       "      <td>1.018840</td>\n",
       "      <td>0.913994</td>\n",
       "      <td>0.656724</td>\n",
       "      <td>0.881711</td>\n",
       "    </tr>\n",
       "    <tr>\n",
       "      <th>4</th>\n",
       "      <td>0.637864</td>\n",
       "      <td>0.472183</td>\n",
       "      <td>0.527395</td>\n",
       "      <td>0.872281</td>\n",
       "      <td>0.000000</td>\n",
       "      <td>0.372797</td>\n",
       "      <td>0.469098</td>\n",
       "      <td>0.350479</td>\n",
       "      <td>0.419442</td>\n",
       "      <td>0.523004</td>\n",
       "    </tr>\n",
       "    <tr>\n",
       "      <th>5</th>\n",
       "      <td>0.474290</td>\n",
       "      <td>0.459604</td>\n",
       "      <td>0.439379</td>\n",
       "      <td>0.768772</td>\n",
       "      <td>0.372797</td>\n",
       "      <td>0.000000</td>\n",
       "      <td>0.454910</td>\n",
       "      <td>0.503081</td>\n",
       "      <td>0.256254</td>\n",
       "      <td>0.494223</td>\n",
       "    </tr>\n",
       "    <tr>\n",
       "      <th>6</th>\n",
       "      <td>0.621992</td>\n",
       "      <td>0.551270</td>\n",
       "      <td>0.614797</td>\n",
       "      <td>1.018840</td>\n",
       "      <td>0.469098</td>\n",
       "      <td>0.454910</td>\n",
       "      <td>0.000000</td>\n",
       "      <td>0.431566</td>\n",
       "      <td>0.594019</td>\n",
       "      <td>0.384573</td>\n",
       "    </tr>\n",
       "    <tr>\n",
       "      <th>7</th>\n",
       "      <td>0.575354</td>\n",
       "      <td>0.476771</td>\n",
       "      <td>0.524210</td>\n",
       "      <td>0.913994</td>\n",
       "      <td>0.350475</td>\n",
       "      <td>0.503084</td>\n",
       "      <td>0.431566</td>\n",
       "      <td>0.000000</td>\n",
       "      <td>0.545555</td>\n",
       "      <td>0.308000</td>\n",
       "    </tr>\n",
       "    <tr>\n",
       "      <th>8</th>\n",
       "      <td>0.438588</td>\n",
       "      <td>0.446234</td>\n",
       "      <td>0.430268</td>\n",
       "      <td>0.656724</td>\n",
       "      <td>0.419443</td>\n",
       "      <td>0.256256</td>\n",
       "      <td>0.594019</td>\n",
       "      <td>0.545555</td>\n",
       "      <td>0.000000</td>\n",
       "      <td>0.560115</td>\n",
       "    </tr>\n",
       "    <tr>\n",
       "      <th>9</th>\n",
       "      <td>0.491408</td>\n",
       "      <td>0.509999</td>\n",
       "      <td>0.466284</td>\n",
       "      <td>0.881711</td>\n",
       "      <td>0.523004</td>\n",
       "      <td>0.494223</td>\n",
       "      <td>0.384573</td>\n",
       "      <td>0.308000</td>\n",
       "      <td>0.560116</td>\n",
       "      <td>0.000000</td>\n",
       "    </tr>\n",
       "  </tbody>\n",
       "</table>\n",
       "</div>"
      ],
      "text/plain": [
       "          0         1         2         3         4         5         6  \\\n",
       "0  0.000000  0.366514  0.530243  0.685211  0.637866  0.474290  0.621992   \n",
       "1  0.366516  0.000000  0.505941  0.719797  0.472186  0.459605  0.551277   \n",
       "2  0.530243  0.505941  0.000000  0.580467  0.527394  0.439379  0.614798   \n",
       "3  0.685212  0.719797  0.580466  0.000000  0.872281  0.768772  1.018840   \n",
       "4  0.637864  0.472183  0.527395  0.872281  0.000000  0.372797  0.469098   \n",
       "5  0.474290  0.459604  0.439379  0.768772  0.372797  0.000000  0.454910   \n",
       "6  0.621992  0.551270  0.614797  1.018840  0.469098  0.454910  0.000000   \n",
       "7  0.575354  0.476771  0.524210  0.913994  0.350475  0.503084  0.431566   \n",
       "8  0.438588  0.446234  0.430268  0.656724  0.419443  0.256256  0.594019   \n",
       "9  0.491408  0.509999  0.466284  0.881711  0.523004  0.494223  0.384573   \n",
       "\n",
       "          7         8         9  \n",
       "0  0.575354  0.438588  0.491408  \n",
       "1  0.476775  0.446234  0.509999  \n",
       "2  0.524209  0.430268  0.466283  \n",
       "3  0.913994  0.656724  0.881711  \n",
       "4  0.350479  0.419442  0.523004  \n",
       "5  0.503081  0.256254  0.494223  \n",
       "6  0.431566  0.594019  0.384573  \n",
       "7  0.000000  0.545555  0.308000  \n",
       "8  0.545555  0.000000  0.560115  \n",
       "9  0.308000  0.560116  0.000000  "
      ]
     },
     "execution_count": 13,
     "metadata": {},
     "output_type": "execute_result"
    }
   ],
   "source": [
    "# Create a numpy array to store all the values\n",
    "# One loop will produce the same quantity of values as frame number\n",
    "# Loop for (n_frames time) to cover all the conbinations\n",
    "distances = np.empty((traj.n_frames, traj.n_frames))\n",
    "for i in range(traj.n_frames):\n",
    "    distances[i] = md.rmsd(traj, traj, i)\n",
    "pd.DataFrame(distances)"
   ]
  },
  {
   "cell_type": "markdown",
   "id": "ac7d4494",
   "metadata": {},
   "source": [
    "The rmsd results are the same when you exchange the target and reference. It is obvious that the results are symmetric along the diagonal, so almost half of the values are repetitive. Maybe a better version:"
   ]
  },
  {
   "cell_type": "code",
   "execution_count": 14,
   "id": "5c32d077",
   "metadata": {},
   "outputs": [
    {
     "data": {
      "text/html": [
       "<div>\n",
       "<style scoped>\n",
       "    .dataframe tbody tr th:only-of-type {\n",
       "        vertical-align: middle;\n",
       "    }\n",
       "\n",
       "    .dataframe tbody tr th {\n",
       "        vertical-align: top;\n",
       "    }\n",
       "\n",
       "    .dataframe thead th {\n",
       "        text-align: right;\n",
       "    }\n",
       "</style>\n",
       "<table border=\"1\" class=\"dataframe\">\n",
       "  <thead>\n",
       "    <tr style=\"text-align: right;\">\n",
       "      <th></th>\n",
       "      <th>0</th>\n",
       "      <th>1</th>\n",
       "      <th>2</th>\n",
       "      <th>3</th>\n",
       "      <th>4</th>\n",
       "      <th>5</th>\n",
       "      <th>6</th>\n",
       "      <th>7</th>\n",
       "      <th>8</th>\n",
       "      <th>9</th>\n",
       "    </tr>\n",
       "  </thead>\n",
       "  <tbody>\n",
       "    <tr>\n",
       "      <th>0</th>\n",
       "      <td>0.000000</td>\n",
       "      <td>0.366515</td>\n",
       "      <td>0.530243</td>\n",
       "      <td>0.685212</td>\n",
       "      <td>0.637864</td>\n",
       "      <td>0.474290</td>\n",
       "      <td>0.621992</td>\n",
       "      <td>0.575353</td>\n",
       "      <td>0.438589</td>\n",
       "      <td>0.491407</td>\n",
       "    </tr>\n",
       "    <tr>\n",
       "      <th>1</th>\n",
       "      <td>0.366515</td>\n",
       "      <td>0.000000</td>\n",
       "      <td>0.505941</td>\n",
       "      <td>0.719797</td>\n",
       "      <td>0.472186</td>\n",
       "      <td>0.459604</td>\n",
       "      <td>0.551277</td>\n",
       "      <td>0.476775</td>\n",
       "      <td>0.446234</td>\n",
       "      <td>0.509999</td>\n",
       "    </tr>\n",
       "    <tr>\n",
       "      <th>2</th>\n",
       "      <td>0.530243</td>\n",
       "      <td>0.505941</td>\n",
       "      <td>0.000000</td>\n",
       "      <td>0.580467</td>\n",
       "      <td>0.527394</td>\n",
       "      <td>0.439379</td>\n",
       "      <td>0.614798</td>\n",
       "      <td>0.524209</td>\n",
       "      <td>0.430268</td>\n",
       "      <td>0.466283</td>\n",
       "    </tr>\n",
       "    <tr>\n",
       "      <th>3</th>\n",
       "      <td>0.685212</td>\n",
       "      <td>0.719797</td>\n",
       "      <td>0.580467</td>\n",
       "      <td>0.000000</td>\n",
       "      <td>0.872281</td>\n",
       "      <td>0.768772</td>\n",
       "      <td>1.018840</td>\n",
       "      <td>0.913994</td>\n",
       "      <td>0.656724</td>\n",
       "      <td>0.881711</td>\n",
       "    </tr>\n",
       "    <tr>\n",
       "      <th>4</th>\n",
       "      <td>0.637864</td>\n",
       "      <td>0.472186</td>\n",
       "      <td>0.527394</td>\n",
       "      <td>0.872281</td>\n",
       "      <td>0.000000</td>\n",
       "      <td>0.372797</td>\n",
       "      <td>0.469100</td>\n",
       "      <td>0.350479</td>\n",
       "      <td>0.419442</td>\n",
       "      <td>0.523004</td>\n",
       "    </tr>\n",
       "    <tr>\n",
       "      <th>5</th>\n",
       "      <td>0.474290</td>\n",
       "      <td>0.459604</td>\n",
       "      <td>0.439379</td>\n",
       "      <td>0.768772</td>\n",
       "      <td>0.372797</td>\n",
       "      <td>0.000000</td>\n",
       "      <td>0.454910</td>\n",
       "      <td>0.503081</td>\n",
       "      <td>0.256254</td>\n",
       "      <td>0.494223</td>\n",
       "    </tr>\n",
       "    <tr>\n",
       "      <th>6</th>\n",
       "      <td>0.621992</td>\n",
       "      <td>0.551277</td>\n",
       "      <td>0.614798</td>\n",
       "      <td>1.018840</td>\n",
       "      <td>0.469100</td>\n",
       "      <td>0.454910</td>\n",
       "      <td>0.000000</td>\n",
       "      <td>0.431566</td>\n",
       "      <td>0.594019</td>\n",
       "      <td>0.384573</td>\n",
       "    </tr>\n",
       "    <tr>\n",
       "      <th>7</th>\n",
       "      <td>0.575353</td>\n",
       "      <td>0.476775</td>\n",
       "      <td>0.524209</td>\n",
       "      <td>0.913994</td>\n",
       "      <td>0.350479</td>\n",
       "      <td>0.503081</td>\n",
       "      <td>0.431566</td>\n",
       "      <td>0.000000</td>\n",
       "      <td>0.545555</td>\n",
       "      <td>0.308000</td>\n",
       "    </tr>\n",
       "    <tr>\n",
       "      <th>8</th>\n",
       "      <td>0.438589</td>\n",
       "      <td>0.446234</td>\n",
       "      <td>0.430268</td>\n",
       "      <td>0.656724</td>\n",
       "      <td>0.419442</td>\n",
       "      <td>0.256254</td>\n",
       "      <td>0.594019</td>\n",
       "      <td>0.545555</td>\n",
       "      <td>0.000000</td>\n",
       "      <td>0.560115</td>\n",
       "    </tr>\n",
       "    <tr>\n",
       "      <th>9</th>\n",
       "      <td>0.491407</td>\n",
       "      <td>0.509999</td>\n",
       "      <td>0.466283</td>\n",
       "      <td>0.881711</td>\n",
       "      <td>0.523004</td>\n",
       "      <td>0.494223</td>\n",
       "      <td>0.384573</td>\n",
       "      <td>0.308000</td>\n",
       "      <td>0.560115</td>\n",
       "      <td>0.000000</td>\n",
       "    </tr>\n",
       "  </tbody>\n",
       "</table>\n",
       "</div>"
      ],
      "text/plain": [
       "          0         1         2         3         4         5         6  \\\n",
       "0  0.000000  0.366515  0.530243  0.685212  0.637864  0.474290  0.621992   \n",
       "1  0.366515  0.000000  0.505941  0.719797  0.472186  0.459604  0.551277   \n",
       "2  0.530243  0.505941  0.000000  0.580467  0.527394  0.439379  0.614798   \n",
       "3  0.685212  0.719797  0.580467  0.000000  0.872281  0.768772  1.018840   \n",
       "4  0.637864  0.472186  0.527394  0.872281  0.000000  0.372797  0.469100   \n",
       "5  0.474290  0.459604  0.439379  0.768772  0.372797  0.000000  0.454910   \n",
       "6  0.621992  0.551277  0.614798  1.018840  0.469100  0.454910  0.000000   \n",
       "7  0.575353  0.476775  0.524209  0.913994  0.350479  0.503081  0.431566   \n",
       "8  0.438589  0.446234  0.430268  0.656724  0.419442  0.256254  0.594019   \n",
       "9  0.491407  0.509999  0.466283  0.881711  0.523004  0.494223  0.384573   \n",
       "\n",
       "          7         8         9  \n",
       "0  0.575353  0.438589  0.491407  \n",
       "1  0.476775  0.446234  0.509999  \n",
       "2  0.524209  0.430268  0.466283  \n",
       "3  0.913994  0.656724  0.881711  \n",
       "4  0.350479  0.419442  0.523004  \n",
       "5  0.503081  0.256254  0.494223  \n",
       "6  0.431566  0.594019  0.384573  \n",
       "7  0.000000  0.545555  0.308000  \n",
       "8  0.545555  0.000000  0.560115  \n",
       "9  0.308000  0.560115  0.000000  "
      ]
     },
     "execution_count": 14,
     "metadata": {},
     "output_type": "execute_result"
    }
   ],
   "source": [
    "distances = np.empty((traj.n_frames, traj.n_frames))\n",
    "for i in range(traj.n_frames):\n",
    "    distances[i] = np.concatenate((np.zeros((i+1,), dtype = float),md.rmsd(traj[i+1:], traj, i)))\n",
    "for i in range(traj.n_frames):    \n",
    "    for j in range(i+1, traj.n_frames):\n",
    "        distances[j,i] = distances[i,j]\n",
    "pd.DataFrame(distances)"
   ]
  },
  {
   "cell_type": "code",
   "execution_count": 35,
   "id": "ad47a508",
   "metadata": {},
   "outputs": [
    {
     "data": {
      "text/plain": [
       "<mpl_toolkits.mplot3d.art3d.Path3DCollection at 0x18900128a60>"
      ]
     },
     "execution_count": 35,
     "metadata": {},
     "output_type": "execute_result"
    },
    {
     "data": {
      "image/png": "[encoded data removed]",
      "text/plain": [
       "<Figure size 432x288 with 1 Axes>"
      ]
     },
     "metadata": {
      "needs_background": "light"
     },
     "output_type": "display_data"
    }
   ],
   "source": [
    "fig = plt.figure()\n",
    "ax = plt.axes(projection = '3d')\n",
    "x = a.T[0]\n",
    "y = a.T[1]\n",
    "z = a.T[2]\n",
    "ax.scatter(x, y, z, 'green')"
   ]
  },
  {
   "cell_type": "code",
   "execution_count": null,
   "id": "e1b81fc7",
   "metadata": {},
   "outputs": [],
   "source": []
  }
 ],
 "metadata": {
  "kernelspec": {
   "display_name": "Python 3",
   "language": "python",
   "name": "python3"
  },
  "language_info": {
   "codemirror_mode": {
    "name": "ipython",
    "version": 3
   },
   "file_extension": ".py",
   "mimetype": "text/x-python",
   "name": "python",
   "nbconvert_exporter": "python",
   "pygments_lexer": "ipython3",
   "version": "3.8.10"
  }
 },
 "nbformat": 4,
 "nbformat_minor": 5
}
