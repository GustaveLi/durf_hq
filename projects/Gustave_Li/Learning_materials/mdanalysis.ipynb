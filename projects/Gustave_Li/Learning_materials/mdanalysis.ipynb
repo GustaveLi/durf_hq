{
 "cells": [
  {
   "cell_type": "code",
   "execution_count": 2,
   "id": "7eee6933",
   "metadata": {},
   "outputs": [],
   "source": [
    "import MDAnalysis as mda\n",
    "from MDAnalysis.tests.datafiles import PSF, DCD, GRO, XTC\n",
    "from MDAnalysis.analysis import rms\n",
    "import numpy as np\n",
    "import pandas as pd"
   ]
  },
  {
   "cell_type": "markdown",
   "id": "dde3a692",
   "metadata": {},
   "source": [
    "## Data structures in MDAnalysis"
   ]
  },
  {
   "cell_type": "markdown",
   "id": "afaf430e",
   "metadata": {},
   "source": [
    "- A molecular system consists of particles. A particle is represented as an `Atom` object\n",
    "- `Atom`s are grouped into `AtomGroup`s\n",
    "- A `Universe` contains all the particles in a molecular system in an `AtomGroup` accessible at the `.atoms` attribute, and combines it with a trajectory at `.trajectory`\n",
    "\n",
    "A fundamental concept in MDAnalysis is that at any one time, only **one time frame of the trajectory is being accessed**."
   ]
  },
  {
   "cell_type": "markdown",
   "id": "256f58e4",
   "metadata": {},
   "source": [
    "## Loading a structure or trajectory\n",
    "\n",
    "Working with MDAnalysis typically starts with loading data into a **Universe**, the central data structure in MDAnalysis. \n",
    "\n",
    "A topology file is **always needed**, it can be **followed by trajectory files**"
   ]
  },
  {
   "cell_type": "code",
   "execution_count": 3,
   "id": "0b18a882",
   "metadata": {},
   "outputs": [
    {
     "data": {
      "text/plain": [
       "10"
      ]
     },
     "execution_count": 3,
     "metadata": {},
     "output_type": "execute_result"
    }
   ],
   "source": [
    "# using f-string formatted variable\n",
    "data_dir = '/DURF_datasets/triad_molecule'\n",
    "top_file = f'{data_dir}/triad_forcefield_ground.prmtop'\n",
    "traj_file = f'{data_dir}/for_tutorial.dcd'\n",
    "u = mda.Universe(top_file, traj_file)\n",
    "len(u.trajectory)"
   ]
  },
  {
   "cell_type": "markdown",
   "id": "e7459d51",
   "metadata": {},
   "source": [
    "# Working with atoms"
   ]
  },
  {
   "cell_type": "markdown",
   "id": "32bff55e",
   "metadata": {},
   "source": [
    "## Select atoms and store in `Atomgroups`"
   ]
  },
  {
   "cell_type": "markdown",
   "id": "4516e935",
   "metadata": {},
   "source": [
    "### Access the particles of the `Universe` with the `atoms`attribute"
   ]
  },
  {
   "cell_type": "code",
   "execution_count": 3,
   "id": "608d1c9c",
   "metadata": {},
   "outputs": [
    {
     "data": {
      "text/plain": [
       "<AtomGroup with 207 atoms>"
      ]
     },
     "execution_count": 3,
     "metadata": {},
     "output_type": "execute_result"
    }
   ],
   "source": [
    "u.atoms"
   ]
  },
  {
   "cell_type": "markdown",
   "id": "217f2866",
   "metadata": {},
   "source": [
    "### Select by slicing"
   ]
  },
  {
   "cell_type": "code",
   "execution_count": 4,
   "id": "903a2707",
   "metadata": {},
   "outputs": [
    {
     "data": {
      "text/plain": [
       "<AtomGroup with 60 atoms>"
      ]
     },
     "execution_count": 4,
     "metadata": {},
     "output_type": "execute_result"
    }
   ],
   "source": [
    "first_sixty = u.atoms[:60]\n",
    "first_sixty.atoms"
   ]
  },
  {
   "cell_type": "markdown",
   "id": "3db77692",
   "metadata": {},
   "source": [
    "### Select by filtered lists"
   ]
  },
  {
   "cell_type": "code",
   "execution_count": 5,
   "id": "749848ce",
   "metadata": {},
   "outputs": [
    {
     "data": {
      "text/plain": [
       "<AtomGroup with 132 atoms>"
      ]
     },
     "execution_count": 5,
     "metadata": {},
     "output_type": "execute_result"
    }
   ],
   "source": [
    "carbons = u.atoms[[atom.index for atom in u.atoms if atom.element=='C']]\n",
    "carbons #You can slice this Atomgroup to get even smaller atom group"
   ]
  },
  {
   "cell_type": "markdown",
   "id": "5ab42e5a",
   "metadata": {},
   "source": [
    "## `Atomgroups`:  the most important class in MDAnalysis\n",
    "\n",
    "Syntax: `(AtomGroup).(attribute or method)`\n",
    "- names\n",
    "- masses\n",
    "- elements (symbol)\n",
    "- residues (it belongs to) \\-\\-no duplication\n",
    "    - resnames (show residue attributes atom-wise)\n",
    "- segments\n",
    "- positions\n",
    "- center_of_mass()\n",
    "- center_of_geometry()\n",
    "- total_mass()/ total_charge()\n",
    "- topology geometries (**only the atoms involved in the geometry can be in the group**)\n",
    "    - bonds (2 atoms in the group)\n",
    "    - angles (3 atoms in the group)\n",
    "    - dihedral angles (4 atoms in the group)"
   ]
  },
  {
   "cell_type": "code",
   "execution_count": 6,
   "id": "c9b3ef29",
   "metadata": {},
   "outputs": [
    {
     "name": "stdout",
     "output_type": "stream",
     "text": [
      "['C1' 'C2' 'C3' 'C4' 'C5' 'C6' 'C7' 'C8' 'C9' 'C10' 'C11' 'C12' 'C13'\n",
      " 'C14' 'C15' 'C16' 'C17' 'C18' 'C19' 'C20' 'C21' 'C22' 'C23' 'C24' 'C25'\n",
      " 'C26' 'C27' 'C28' 'C29' 'C30' 'C31' 'C32' 'C33' 'C34' 'C35' 'C36' 'C37'\n",
      " 'C38' 'C39' 'C40' 'C41' 'C42' 'C43' 'C44' 'C45' 'C46' 'C47' 'C48' 'C49'\n",
      " 'C50' 'C51' 'C52' 'C53' 'C54' 'C55' 'C56' 'C57' 'C58' 'C59' 'C60' 'C61'\n",
      " 'C62' 'C63' 'C64' 'C65' 'C66' 'C67' 'C68' 'C69' 'C70' 'C71' 'C72' 'C73'\n",
      " 'C74' 'C75' 'C76' 'C77' 'C78' 'C79' 'C80' 'C81' 'C82' 'C83' 'C84' 'C85'\n",
      " 'C86' 'C87' 'C88' 'C89' 'C90' 'C91' 'C92' 'C93' 'C94' 'C95' 'C96' 'C97'\n",
      " 'C98' 'C99' 'C100' 'C101' 'C102' 'C103' 'C104' 'C105' 'C106' 'C107'\n",
      " 'C108' 'C109' 'C110' 'C111' 'C112' 'C113' 'C114' 'C115' 'C116' 'C117'\n",
      " 'C118' 'C119' 'C120' 'C121' 'C122' 'C123' 'C124' 'C125' 'C126' 'C127'\n",
      " 'C128' 'C129' 'C130' 'C131' 'C132']\n",
      "[49.5958473  45.47731301 51.33252196]\n"
     ]
    }
   ],
   "source": [
    "print(carbons.names)\n",
    "print(carbons.center_of_mass())"
   ]
  },
  {
   "cell_type": "code",
   "execution_count": 7,
   "id": "869ede6a",
   "metadata": {},
   "outputs": [
    {
     "name": "stdout",
     "output_type": "stream",
     "text": [
      "48.80607524639622\n",
      "22.219644295983453\n"
     ]
    }
   ],
   "source": [
    "# Example for topology geometries\n",
    "angle = carbons[:3].angle.value()\n",
    "dihedral = carbons[:4].dihedral.value()\n",
    "print(angle)\n",
    "print(dihedral)"
   ]
  },
  {
   "cell_type": "markdown",
   "id": "3a4544e1",
   "metadata": {},
   "source": [
    "# Working with trajectories"
   ]
  },
  {
   "cell_type": "markdown",
   "id": "244cc0da",
   "metadata": {},
   "source": [
    "## The number of frames in a trajectory"
   ]
  },
  {
   "cell_type": "code",
   "execution_count": 8,
   "id": "a23b5e1d",
   "metadata": {},
   "outputs": [
    {
     "data": {
      "text/plain": [
       "10"
      ]
     },
     "execution_count": 8,
     "metadata": {},
     "output_type": "execute_result"
    }
   ],
   "source": [
    "len(u.trajectory)"
   ]
  },
  {
   "cell_type": "markdown",
   "id": "e9670901",
   "metadata": {},
   "source": [
    "## Iterate over frames to get certain information from the whole dataset"
   ]
  },
  {
   "cell_type": "code",
   "execution_count": 9,
   "id": "930978f2",
   "metadata": {},
   "outputs": [
    {
     "data": {
      "text/plain": [
       "array([[49.34392914, 45.98646084, 51.13193348],\n",
       "       [52.50568547, 48.05364714, 49.66329707],\n",
       "       [45.05244407, 48.09455926, 49.13975922],\n",
       "       [46.95114827, 47.39075919, 47.51692155],\n",
       "       [50.70829029, 45.26321585, 46.47711484],\n",
       "       [51.98144021, 48.73396415, 45.97342606],\n",
       "       [47.76344956, 48.84835129, 44.15456936],\n",
       "       [50.38872946, 50.27402928, 44.72650511],\n",
       "       [51.89509917, 50.79428328, 49.61875013],\n",
       "       [52.24712501, 47.19119227, 46.60381208]])"
      ]
     },
     "execution_count": 9,
     "metadata": {},
     "output_type": "execute_result"
    }
   ],
   "source": [
    "# Get the center of mass for all the 10 frames in the sample dataset\n",
    "com = []\n",
    "for ts in u.trajectory:\n",
    "    center = u.atoms.center_of_mass()\n",
    "    com.append(center)\n",
    "np.array(com)"
   ]
  },
  {
   "cell_type": "markdown",
   "id": "44e950e1",
   "metadata": {},
   "source": [
    "After iteration, the frame /# sets back to 0:"
   ]
  },
  {
   "cell_type": "code",
   "execution_count": 10,
   "id": "67222908",
   "metadata": {},
   "outputs": [
    {
     "data": {
      "text/plain": [
       "0"
      ]
     },
     "execution_count": 10,
     "metadata": {},
     "output_type": "execute_result"
    }
   ],
   "source": [
    "u.trajectory.frame"
   ]
  },
  {
   "cell_type": "markdown",
   "id": "5072bc79",
   "metadata": {},
   "source": [
    "## Directly give the frame number of interest"
   ]
  },
  {
   "cell_type": "code",
   "execution_count": 11,
   "id": "9e719aee",
   "metadata": {},
   "outputs": [
    {
     "data": {
      "text/plain": [
       "4"
      ]
     },
     "execution_count": 11,
     "metadata": {},
     "output_type": "execute_result"
    }
   ],
   "source": [
    "#Choose the fifth frame\n",
    "u.trajectory[4]\n",
    "u.trajectory.frame # The frame remained at 4 before further changes"
   ]
  },
  {
   "cell_type": "markdown",
   "id": "40a3a50b",
   "metadata": {},
   "source": [
    "## Use `next()` method to move to the next frame"
   ]
  },
  {
   "cell_type": "code",
   "execution_count": 12,
   "id": "1e6a781e",
   "metadata": {},
   "outputs": [
    {
     "name": "stdout",
     "output_type": "stream",
     "text": [
      "[50.70829029 45.26321585 46.47711484]\n"
     ]
    },
    {
     "data": {
      "text/plain": [
       "< Timestep 5 with unit cell dimensions [97.384636 97.384636 97.384636 90.       90.       90.      ] >"
      ]
     },
     "execution_count": 12,
     "metadata": {},
     "output_type": "execute_result"
    }
   ],
   "source": [
    "print(u.atoms.center_of_mass())\n",
    "u.trajectory.next()"
   ]
  },
  {
   "cell_type": "markdown",
   "id": "1537dc54",
   "metadata": {},
   "source": [
    "## Dynamic selection\n",
    "\n",
    "Set the argument `updating` to `True`"
   ]
  },
  {
   "cell_type": "markdown",
   "id": "8ac5c6b1",
   "metadata": {},
   "source": [
    "# Save back to disk"
   ]
  },
  {
   "cell_type": "markdown",
   "id": "566570d5",
   "metadata": {},
   "source": [
    "## Single frame\n",
    "Use `write()` method to save any `Atomgroup`s to disk (`(Atomgroup).write()`)\n",
    "\n",
    "Parse automatically by extension"
   ]
  },
  {
   "cell_type": "code",
   "execution_count": 13,
   "id": "0ca4a992",
   "metadata": {},
   "outputs": [],
   "source": [
    "#carbons.write('xxx.pdb')"
   ]
  },
  {
   "cell_type": "markdown",
   "id": "2006682c",
   "metadata": {},
   "source": [
    "## Trajectories\n",
    "\n",
    "1. Open a trajectory `Writer` and specify the output file name, **how many atoms a frame will contain**\n",
    "1. **Iterate** through the trajectory and write coordinates frame-by-frame with `Writer.write()`\n",
    "\n",
    "[with statement 01](https://blog.csdn.net/u012609509/article/details/72911564)\n",
    "\n",
    "[with statement 02](https://www.cnblogs.com/pythonbao/p/11211347.html)"
   ]
  },
  {
   "cell_type": "code",
   "execution_count": 14,
   "id": "fe20fb49",
   "metadata": {},
   "outputs": [],
   "source": [
    "#with mda.Writer('xxx.pdb', carbons.n_atoms) as w:\n",
    "    #for ts in u.trajectory:\n",
    "        #w.write(carbons)"
   ]
  },
  {
   "cell_type": "markdown",
   "id": "5348ae1c",
   "metadata": {},
   "source": [
    "# Analysis\n",
    "A common scheme for doing analysis in MDAnalysis\n",
    "\n",
    "1. Initialise the analysis with a `Universe` and other required parameters\n",
    "1. Run the analysis with `.run()`. Optional arguments are the `start` frame index, `stop` frame index, `step` size, and toggling `verbose`. The default is to run analysis on the whole trajectory.\n",
    "1. Often, a function is available to operate on **single frames**"
   ]
  },
  {
   "cell_type": "markdown",
   "id": "8a941884",
   "metadata": {},
   "source": [
    "## Example: RMSD"
   ]
  },
  {
   "cell_type": "markdown",
   "id": "2f667dab",
   "metadata": {},
   "source": [
    "### `rmsd()`: RMSD between two numpy arrays of coordinates"
   ]
  },
  {
   "cell_type": "code",
   "execution_count": 15,
   "id": "8efd7f71",
   "metadata": {},
   "outputs": [
    {
     "data": {
      "text/plain": [
       "22.20022899998312"
      ]
     },
     "execution_count": 15,
     "metadata": {},
     "output_type": "execute_result"
    }
   ],
   "source": [
    "# Want to determine the RMSD between the first frame and the last frame\n",
    "# Only one frame can be read at a time, set to the first frame\n",
    "u.trajectory[0] \n",
    "coor_1 = u.atoms.positions\n",
    "# Set to the last frame\n",
    "u.trajectory[-1]\n",
    "coor_2 = u.atoms.positions\n",
    "rms.rmsd(coor_1, coor_2)"
   ]
  },
  {
   "cell_type": "markdown",
   "id": "255b3c02",
   "metadata": {},
   "source": [
    "### `RMSD` class: RMSD on (all) trajectories with one reference"
   ]
  },
  {
   "cell_type": "code",
   "execution_count": 16,
   "id": "396db6bf",
   "metadata": {},
   "outputs": [
    {
     "data": {
      "text/html": [
       "<div>\n",
       "<style scoped>\n",
       "    .dataframe tbody tr th:only-of-type {\n",
       "        vertical-align: middle;\n",
       "    }\n",
       "\n",
       "    .dataframe tbody tr th {\n",
       "        vertical-align: top;\n",
       "    }\n",
       "\n",
       "    .dataframe thead th {\n",
       "        text-align: right;\n",
       "    }\n",
       "</style>\n",
       "<table border=\"1\" class=\"dataframe\">\n",
       "  <thead>\n",
       "    <tr style=\"text-align: right;\">\n",
       "      <th></th>\n",
       "      <th>0</th>\n",
       "      <th>1</th>\n",
       "      <th>2</th>\n",
       "    </tr>\n",
       "  </thead>\n",
       "  <tbody>\n",
       "    <tr>\n",
       "      <th>0</th>\n",
       "      <td>0.0</td>\n",
       "      <td>0.000000</td>\n",
       "      <td>6.378625e+00</td>\n",
       "    </tr>\n",
       "    <tr>\n",
       "      <th>1</th>\n",
       "      <td>1.0</td>\n",
       "      <td>0.048888</td>\n",
       "      <td>4.721885e+00</td>\n",
       "    </tr>\n",
       "    <tr>\n",
       "      <th>2</th>\n",
       "      <td>2.0</td>\n",
       "      <td>0.097776</td>\n",
       "      <td>5.273952e+00</td>\n",
       "    </tr>\n",
       "    <tr>\n",
       "      <th>3</th>\n",
       "      <td>3.0</td>\n",
       "      <td>0.146665</td>\n",
       "      <td>8.722807e+00</td>\n",
       "    </tr>\n",
       "    <tr>\n",
       "      <th>4</th>\n",
       "      <td>4.0</td>\n",
       "      <td>0.195553</td>\n",
       "      <td>7.014939e-07</td>\n",
       "    </tr>\n",
       "    <tr>\n",
       "      <th>5</th>\n",
       "      <td>5.0</td>\n",
       "      <td>0.244441</td>\n",
       "      <td>3.727947e+00</td>\n",
       "    </tr>\n",
       "    <tr>\n",
       "      <th>6</th>\n",
       "      <td>6.0</td>\n",
       "      <td>0.293329</td>\n",
       "      <td>4.691046e+00</td>\n",
       "    </tr>\n",
       "    <tr>\n",
       "      <th>7</th>\n",
       "      <td>7.0</td>\n",
       "      <td>0.342217</td>\n",
       "      <td>3.504767e+00</td>\n",
       "    </tr>\n",
       "    <tr>\n",
       "      <th>8</th>\n",
       "      <td>8.0</td>\n",
       "      <td>0.391106</td>\n",
       "      <td>4.194420e+00</td>\n",
       "    </tr>\n",
       "    <tr>\n",
       "      <th>9</th>\n",
       "      <td>9.0</td>\n",
       "      <td>0.439994</td>\n",
       "      <td>5.229974e+00</td>\n",
       "    </tr>\n",
       "  </tbody>\n",
       "</table>\n",
       "</div>"
      ],
      "text/plain": [
       "     0         1             2\n",
       "0  0.0  0.000000  6.378625e+00\n",
       "1  1.0  0.048888  4.721885e+00\n",
       "2  2.0  0.097776  5.273952e+00\n",
       "3  3.0  0.146665  8.722807e+00\n",
       "4  4.0  0.195553  7.014939e-07\n",
       "5  5.0  0.244441  3.727947e+00\n",
       "6  6.0  0.293329  4.691046e+00\n",
       "7  7.0  0.342217  3.504767e+00\n",
       "8  8.0  0.391106  4.194420e+00\n",
       "9  9.0  0.439994  5.229974e+00"
      ]
     },
     "execution_count": 16,
     "metadata": {},
     "output_type": "execute_result"
    }
   ],
   "source": [
    "# Reset the frame\n",
    "u.trajectory[0]\n",
    "# Build the model, select the 5th frame as reference\n",
    "rmsd_analysis = rms.RMSD(u, ref_frame=4)\n",
    "rmsd_analysis.run()\n",
    "pd.DataFrame(rmsd_analysis.rmsd)"
   ]
  },
  {
   "cell_type": "code",
   "execution_count": null,
   "id": "5553111b",
   "metadata": {},
   "outputs": [],
   "source": []
  }
 ],
 "metadata": {
  "kernelspec": {
   "display_name": "Python 3",
   "language": "python",
   "name": "python3"
  },
  "language_info": {
   "codemirror_mode": {
    "name": "ipython",
    "version": 3
   },
   "file_extension": ".py",
   "mimetype": "text/x-python",
   "name": "python",
   "nbconvert_exporter": "python",
   "pygments_lexer": "ipython3",
   "version": "3.8.10"
  }
 },
 "nbformat": 4,
 "nbformat_minor": 5
}
