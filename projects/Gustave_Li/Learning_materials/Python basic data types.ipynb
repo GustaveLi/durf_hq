{
 "cells": [
  {
   "cell_type": "code",
   "execution_count": 5,
   "id": "56f0e5b4",
   "metadata": {},
   "outputs": [],
   "source": [
    "import numpy as np\n",
    "import pandas as pd"
   ]
  },
  {
   "cell_type": "markdown",
   "id": "2288f3de",
   "metadata": {},
   "source": [
    "# [Lists](https://docs.python.org/3/tutorial/introduction.html#lists)"
   ]
  },
  {
   "cell_type": "markdown",
   "id": "957efe25",
   "metadata": {},
   "source": [
    "- A list of comma-separated values (items) between square brackets\n",
    "- Might contain items of different types\n",
    "- Mutable\n",
    "- Manipulation: slicing, indexing, concatenation\n",
    "- List methods:\n",
    "    - `append()`\n",
    "    - `extend()`\n",
    "    - `insert()`\n",
    "    - `remove()`\n",
    "    - `pop()`\n",
    "    - `sort()`\n",
    "    - `reverse()`\n",
    "    - `copy()`\n",
    "    - etc.\n",
    "- List comprehensions"
   ]
  },
  {
   "cell_type": "markdown",
   "id": "3820090c",
   "metadata": {},
   "source": [
    "# [Tuples](https://docs.python.org/3/tutorial/datastructures.html#tuples-and-sequences)"
   ]
  },
  {
   "cell_type": "markdown",
   "id": "6d1870cd",
   "metadata": {},
   "source": [
    "- Consist of a number of values separated by commas, **often parentheses are necessary**\n",
    "- Very similar to lists, but are **immutable**\n",
    "- Usually contain a heterogeneous sequence of elements\n",
    "- Used for sequence unpacking"
   ]
  },
  {
   "cell_type": "markdown",
   "id": "650322fb",
   "metadata": {},
   "source": [
    "# [Dictionaries](https://docs.python.org/3/tutorial/datastructures.html#dictionaries)"
   ]
  },
  {
   "cell_type": "markdown",
   "id": "2d7f7852",
   "metadata": {},
   "source": [
    "- A set of key: value pairs, with the requirement that the keys are unique\n",
    "- Indexed by keys, which can be any immutable type (always strings or numbers)\n",
    "- Manipulation: \n",
    "    - Store a value with some key\n",
    "    - Extract the value given the key\n",
    "    - Delete a key\n",
    "- Methods:\n",
    "    - `keys()`\n",
    "    - `values()`\n",
    "    - `items()`"
   ]
  },
  {
   "cell_type": "markdown",
   "id": "a8aabf8d",
   "metadata": {},
   "source": [
    "# [Arrays](https://numpy.org/doc/stable/user/absolute_beginners.html#what-is-an-array)"
   ]
  },
  {
   "cell_type": "markdown",
   "id": "ca37e17e",
   "metadata": {},
   "source": [
    "- A grid of values, contain information about the raw data, how to locate an element, and how to interpret an element\n",
    "- The elements are all of the same type, referred to as the array `dtype`\n",
    "- NumPy arrays are faster and more compact than Python lists, it provides a mechanism of specifying the data types\n",
    "- Can be initialized from Python lists or from a sequence of elements (0's, 1's or random)\n",
    "- A **vector** is an array with a single dimension (there’s no difference between row and column vectors), while a **matrix** refers to an array with two dimensions. For 3-D or higher dimensional arrays, the term **tensor** is also commonly used"
   ]
  },
  {
   "cell_type": "markdown",
   "id": "76bd7e25",
   "metadata": {},
   "source": [
    "# [Dataframes](https://pandas.pydata.org/docs/getting_started/intro_tutorials/01_table_oriented.html#pandas-data-table-representation)"
   ]
  },
  {
   "cell_type": "markdown",
   "id": "5cab469b",
   "metadata": {},
   "source": [
    "![Representation](https://pandas.pydata.org/docs/_images/01_table_dataframe.svg)\n",
    "- A 2-dimensional data structure that can store data of **different types** (including characters, integers, floating point values, categorical data and more) in columns\n",
    "- Can be inilized from Python dictionaries or 2-D arrays (and Python nested lists)"
   ]
  },
  {
   "cell_type": "markdown",
   "id": "5c98efc7",
   "metadata": {},
   "source": [
    "# [Series](https://pandas.pydata.org/docs/getting_started/intro_tutorials/01_table_oriented.html#each-column-in-a-dataframe-is-a-series)"
   ]
  },
  {
   "cell_type": "markdown",
   "id": "b009342e",
   "metadata": {},
   "source": [
    "![Representation](https://pandas.pydata.org/docs/_images/01_table_series.svg)\n",
    "- Each column in a DataFrame is a Series, when selecting a single column of a pandas DataFrame, the result is a pandas Series\n",
    "- Can be inilized from Python lists or 1-D arrays"
   ]
  },
  {
   "cell_type": "markdown",
   "id": "c85667a3",
   "metadata": {},
   "source": [
    "# Convertion between data types"
   ]
  },
  {
   "cell_type": "markdown",
   "id": "714e78ea",
   "metadata": {},
   "source": [
    "## From list to..."
   ]
  },
  {
   "cell_type": "code",
   "execution_count": 16,
   "id": "47c7edb4",
   "metadata": {},
   "outputs": [
    {
     "name": "stdout",
     "output_type": "stream",
     "text": [
      "[1, 2, 3, 4, 5]\n"
     ]
    },
    {
     "data": {
      "text/plain": [
       "list"
      ]
     },
     "execution_count": 16,
     "metadata": {},
     "output_type": "execute_result"
    }
   ],
   "source": [
    "a = [1,2,3,4,5]\n",
    "print(a)\n",
    "type(a)"
   ]
  },
  {
   "cell_type": "markdown",
   "id": "af5828d2",
   "metadata": {},
   "source": [
    "### Tuple"
   ]
  },
  {
   "cell_type": "code",
   "execution_count": 17,
   "id": "4bd16eab",
   "metadata": {},
   "outputs": [
    {
     "name": "stdout",
     "output_type": "stream",
     "text": [
      "(1, 2, 3, 4, 5)\n"
     ]
    },
    {
     "data": {
      "text/plain": [
       "tuple"
      ]
     },
     "execution_count": 17,
     "metadata": {},
     "output_type": "execute_result"
    }
   ],
   "source": [
    "a_tuple = tuple(a)\n",
    "print(a_tuple)\n",
    "type(a_tuple)"
   ]
  },
  {
   "cell_type": "markdown",
   "id": "4111a8fa",
   "metadata": {},
   "source": [
    "### Array"
   ]
  },
  {
   "cell_type": "code",
   "execution_count": 18,
   "id": "4f232c41",
   "metadata": {},
   "outputs": [
    {
     "name": "stdout",
     "output_type": "stream",
     "text": [
      "[1 2 3 4 5]\n"
     ]
    },
    {
     "data": {
      "text/plain": [
       "numpy.ndarray"
      ]
     },
     "execution_count": 18,
     "metadata": {},
     "output_type": "execute_result"
    }
   ],
   "source": [
    "a_array = np.array(a)\n",
    "print(a_array)\n",
    "type(a_array)"
   ]
  },
  {
   "cell_type": "markdown",
   "id": "b180f9b6",
   "metadata": {},
   "source": [
    "### Series (The first column is index, starting from 0)"
   ]
  },
  {
   "cell_type": "code",
   "execution_count": 19,
   "id": "db35efc9",
   "metadata": {},
   "outputs": [
    {
     "name": "stdout",
     "output_type": "stream",
     "text": [
      "0    1\n",
      "1    2\n",
      "2    3\n",
      "3    4\n",
      "4    5\n",
      "dtype: int64\n"
     ]
    },
    {
     "data": {
      "text/plain": [
       "pandas.core.series.Series"
      ]
     },
     "execution_count": 19,
     "metadata": {},
     "output_type": "execute_result"
    }
   ],
   "source": [
    "a_series = pd.Series(a)\n",
    "print(a_series)\n",
    "type(a_series)"
   ]
  },
  {
   "cell_type": "markdown",
   "id": "075a0b1d",
   "metadata": {},
   "source": [
    "### DataFrame (for nested lists)"
   ]
  },
  {
   "cell_type": "code",
   "execution_count": 15,
   "id": "07343147",
   "metadata": {},
   "outputs": [
    {
     "name": "stdout",
     "output_type": "stream",
     "text": [
      "   0  1\n",
      "0  1  2\n",
      "1  3  4\n"
     ]
    },
    {
     "data": {
      "text/plain": [
       "pandas.core.frame.DataFrame"
      ]
     },
     "execution_count": 15,
     "metadata": {},
     "output_type": "execute_result"
    }
   ],
   "source": [
    "b= [[1,2],[3,4]]\n",
    "b_df = pd.DataFrame(b)\n",
    "print(b_df)\n",
    "type(b_df)"
   ]
  },
  {
   "cell_type": "markdown",
   "id": "bfe2b78b",
   "metadata": {},
   "source": [
    "## From tuple to..."
   ]
  },
  {
   "cell_type": "code",
   "execution_count": 20,
   "id": "e6fe3d88",
   "metadata": {},
   "outputs": [
    {
     "name": "stdout",
     "output_type": "stream",
     "text": [
      "(1, 2, 3, 4)\n"
     ]
    },
    {
     "data": {
      "text/plain": [
       "tuple"
      ]
     },
     "execution_count": 20,
     "metadata": {},
     "output_type": "execute_result"
    }
   ],
   "source": [
    "c = (1,2,3,4)\n",
    "print(c)\n",
    "type(c)"
   ]
  },
  {
   "cell_type": "markdown",
   "id": "f22b0e36",
   "metadata": {},
   "source": [
    "### List"
   ]
  },
  {
   "cell_type": "code",
   "execution_count": 21,
   "id": "d92a0fe3",
   "metadata": {},
   "outputs": [
    {
     "name": "stdout",
     "output_type": "stream",
     "text": [
      "[1, 2, 3, 4]\n"
     ]
    },
    {
     "data": {
      "text/plain": [
       "list"
      ]
     },
     "execution_count": 21,
     "metadata": {},
     "output_type": "execute_result"
    }
   ],
   "source": [
    "c_list = list(c)\n",
    "print(c_list)\n",
    "type(c_list)"
   ]
  },
  {
   "cell_type": "markdown",
   "id": "fd22865c",
   "metadata": {},
   "source": [
    "### To others: exactly the same as list"
   ]
  },
  {
   "cell_type": "markdown",
   "id": "ece8a526",
   "metadata": {},
   "source": [
    "## From dictionary to..."
   ]
  },
  {
   "cell_type": "code",
   "execution_count": 23,
   "id": "8eb98d21",
   "metadata": {},
   "outputs": [
    {
     "name": "stdout",
     "output_type": "stream",
     "text": [
      "{'a': 'b', 'c': 'd', 'e': 'f', 1: 2}\n"
     ]
    },
    {
     "data": {
      "text/plain": [
       "dict"
      ]
     },
     "execution_count": 23,
     "metadata": {},
     "output_type": "execute_result"
    }
   ],
   "source": [
    "d = {'a':'b', 'c':'d', 'e':'f', 1:2}\n",
    "print(d)\n",
    "type(d)"
   ]
  },
  {
   "cell_type": "markdown",
   "id": "92cc1b2d",
   "metadata": {},
   "source": [
    "### List (keys)"
   ]
  },
  {
   "cell_type": "code",
   "execution_count": 24,
   "id": "4083413e",
   "metadata": {},
   "outputs": [
    {
     "name": "stdout",
     "output_type": "stream",
     "text": [
      "['a', 'c', 'e', 1]\n"
     ]
    },
    {
     "data": {
      "text/plain": [
       "list"
      ]
     },
     "execution_count": 24,
     "metadata": {},
     "output_type": "execute_result"
    }
   ],
   "source": [
    "d_keys_list = list(d.keys()) # Or list(d)\n",
    "print(d_keys_list)\n",
    "type(d_keys_list)"
   ]
  },
  {
   "cell_type": "markdown",
   "id": "24aab4c9",
   "metadata": {},
   "source": [
    "### List (values)"
   ]
  },
  {
   "cell_type": "code",
   "execution_count": 25,
   "id": "4f5163dc",
   "metadata": {},
   "outputs": [
    {
     "name": "stdout",
     "output_type": "stream",
     "text": [
      "['b', 'd', 'f', 2]\n"
     ]
    },
    {
     "data": {
      "text/plain": [
       "list"
      ]
     },
     "execution_count": 25,
     "metadata": {},
     "output_type": "execute_result"
    }
   ],
   "source": [
    "d_values_list = list(d.values())\n",
    "print(d_values_list)\n",
    "type(d_values_list)"
   ]
  },
  {
   "cell_type": "markdown",
   "id": "b65ecabe",
   "metadata": {},
   "source": [
    "### Tuple (same as keys/values)"
   ]
  },
  {
   "cell_type": "code",
   "execution_count": 26,
   "id": "598f2215",
   "metadata": {},
   "outputs": [
    {
     "name": "stdout",
     "output_type": "stream",
     "text": [
      "('a', 'c', 'e', 1)\n"
     ]
    },
    {
     "data": {
      "text/plain": [
       "tuple"
      ]
     },
     "execution_count": 26,
     "metadata": {},
     "output_type": "execute_result"
    }
   ],
   "source": [
    "d_keys_tuple = tuple(d.keys())\n",
    "print(d_keys_tuple)\n",
    "type(d_keys_tuple)"
   ]
  },
  {
   "cell_type": "markdown",
   "id": "95cbc378",
   "metadata": {},
   "source": [
    "### DataFrame (The value of dictionary should be list or tuple)"
   ]
  },
  {
   "cell_type": "code",
   "execution_count": 29,
   "id": "46e16482",
   "metadata": {},
   "outputs": [
    {
     "name": "stdout",
     "output_type": "stream",
     "text": [
      "   a  d  g\n",
      "0  b  e  h\n",
      "1  c  f  i\n"
     ]
    },
    {
     "data": {
      "text/plain": [
       "pandas.core.frame.DataFrame"
      ]
     },
     "execution_count": 29,
     "metadata": {},
     "output_type": "execute_result"
    }
   ],
   "source": [
    "e = {'a':['b','c'], 'd':['e','f'], 'g':['h','i']}\n",
    "e_df = pd.DataFrame(e)\n",
    "print(e_df)\n",
    "type(e_df)"
   ]
  },
  {
   "cell_type": "markdown",
   "id": "a9f71083",
   "metadata": {},
   "source": [
    "### Series (One key-value pair)"
   ]
  },
  {
   "cell_type": "code",
   "execution_count": 30,
   "id": "c2115871",
   "metadata": {},
   "outputs": [
    {
     "name": "stdout",
     "output_type": "stream",
     "text": [
      "0    b\n",
      "1    c\n",
      "dtype: object\n"
     ]
    },
    {
     "data": {
      "text/plain": [
       "pandas.core.series.Series"
      ]
     },
     "execution_count": 30,
     "metadata": {},
     "output_type": "execute_result"
    }
   ],
   "source": [
    "e_series = pd.Series(e['a'])\n",
    "print(e_series)\n",
    "type(e_series)"
   ]
  },
  {
   "cell_type": "markdown",
   "id": "40a5ebdd",
   "metadata": {},
   "source": [
    "## From array to..."
   ]
  },
  {
   "cell_type": "code",
   "execution_count": 32,
   "id": "05a8d684",
   "metadata": {},
   "outputs": [
    {
     "name": "stdout",
     "output_type": "stream",
     "text": [
      "[[0 1 2]\n",
      " [3 4 5]\n",
      " [6 7 8]]\n"
     ]
    },
    {
     "data": {
      "text/plain": [
       "numpy.ndarray"
      ]
     },
     "execution_count": 32,
     "metadata": {},
     "output_type": "execute_result"
    }
   ],
   "source": [
    "f = np.arange(9).reshape(3,3)\n",
    "print(f)\n",
    "type(f)"
   ]
  },
  {
   "cell_type": "markdown",
   "id": "da25726a",
   "metadata": {},
   "source": [
    "### List"
   ]
  },
  {
   "cell_type": "code",
   "execution_count": 33,
   "id": "07ad1e8a",
   "metadata": {},
   "outputs": [
    {
     "name": "stdout",
     "output_type": "stream",
     "text": [
      "[array([0, 1, 2]), array([3, 4, 5]), array([6, 7, 8])]\n"
     ]
    },
    {
     "data": {
      "text/plain": [
       "list"
      ]
     },
     "execution_count": 33,
     "metadata": {},
     "output_type": "execute_result"
    }
   ],
   "source": [
    "f_list = list(f)\n",
    "print(f_list)\n",
    "type(f_list)"
   ]
  },
  {
   "cell_type": "markdown",
   "id": "4d60086f",
   "metadata": {},
   "source": [
    "### Tuple: similar to list"
   ]
  },
  {
   "cell_type": "markdown",
   "id": "4cd3c902",
   "metadata": {},
   "source": [
    "### DataFrame"
   ]
  },
  {
   "cell_type": "code",
   "execution_count": 34,
   "id": "82e40a8f",
   "metadata": {},
   "outputs": [
    {
     "name": "stdout",
     "output_type": "stream",
     "text": [
      "   0  1  2\n",
      "0  0  1  2\n",
      "1  3  4  5\n",
      "2  6  7  8\n"
     ]
    },
    {
     "data": {
      "text/plain": [
       "pandas.core.frame.DataFrame"
      ]
     },
     "execution_count": 34,
     "metadata": {},
     "output_type": "execute_result"
    }
   ],
   "source": [
    "f_df = pd.DataFrame(f)\n",
    "print(f_df)\n",
    "type(f_df)"
   ]
  }
 ],
 "metadata": {
  "kernelspec": {
   "display_name": "Python 3",
   "language": "python",
   "name": "python3"
  },
  "language_info": {
   "codemirror_mode": {
    "name": "ipython",
    "version": 3
   },
   "file_extension": ".py",
   "mimetype": "text/x-python",
   "name": "python",
   "nbconvert_exporter": "python",
   "pygments_lexer": "ipython3",
   "version": "3.8.10"
  }
 },
 "nbformat": 4,
 "nbformat_minor": 5
}
