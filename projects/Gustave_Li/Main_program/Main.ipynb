{
 "cells": [
  {
   "cell_type": "markdown",
   "id": "b1bfe43c",
   "metadata": {},
   "source": [
    "# Import modules"
   ]
  },
  {
   "cell_type": "code",
   "execution_count": 39,
   "id": "d6dbbbea",
   "metadata": {},
   "outputs": [
    {
     "data": {
      "text/plain": [
       "<module 'tools.plotting' from '/xspace/hl4212/durf_hq/projects/Gustave_Li/Main_program/tools/plotting.py'>"
      ]
     },
     "execution_count": 39,
     "metadata": {},
     "output_type": "execute_result"
    }
   ],
   "source": [
    "import numpy as np\n",
    "import importlib\n",
    "# Import visualization module for molecular visualization\n",
    "from tools.visualization import Visualization\n",
    "# Import descriptors module to obtain descriptors for triad molecule\n",
    "from tools.descriptors import Descriptors\n",
    "# Import plotting module for plotting\n",
    "from tools import plotting\n",
    "importlib.reload(plotting)"
   ]
  },
  {
   "cell_type": "markdown",
   "id": "fd735ecf",
   "metadata": {},
   "source": [
    "# Load files"
   ]
  },
  {
   "cell_type": "code",
   "execution_count": 2,
   "id": "b5da1265",
   "metadata": {},
   "outputs": [],
   "source": [
    "file_dir = '/xspace/hl4212/DURF_datasets/triad_molecule'\n",
    "traj_path = f'{file_dir}/triad_dataset.nc'\n",
    "top_path = f'{file_dir}/triad_forcefield_ground.prmtop'"
   ]
  },
  {
   "cell_type": "markdown",
   "id": "5b9664c9",
   "metadata": {},
   "source": [
    "# Data visualization"
   ]
  },
  {
   "cell_type": "code",
   "execution_count": 8,
   "id": "4306f36b",
   "metadata": {
    "collapsed": true
   },
   "outputs": [
    {
     "data": {
      "application/vnd.jupyter.widget-view+json": {
       "model_id": "ca4702ae9ec74ee494743639d5829143",
       "version_major": 2,
       "version_minor": 0
      },
      "text/plain": [
       "NGLWidget(max_frame=99999)"
      ]
     },
     "metadata": {},
     "output_type": "display_data"
    }
   ],
   "source": [
    "triad_viz = Visualization(traj_path, top_path)\n",
    "triad_viz.ball_and_stick()"
   ]
  },
  {
   "cell_type": "markdown",
   "id": "67631a4c",
   "metadata": {},
   "source": [
    "## Compare different conformations"
   ]
  },
  {
   "cell_type": "code",
   "execution_count": 9,
   "id": "05264cee",
   "metadata": {
    "collapsed": true
   },
   "outputs": [
    {
     "data": {
      "application/vnd.jupyter.widget-view+json": {
       "model_id": "bcf5ae0134b24aca857a62978470af18",
       "version_major": 2,
       "version_minor": 0
      },
      "text/plain": [
       "NGLWidget()"
      ]
     },
     "metadata": {},
     "output_type": "display_data"
    }
   ],
   "source": [
    "triad_viz.compare(0, -1)"
   ]
  },
  {
   "cell_type": "markdown",
   "id": "3ce5bebe",
   "metadata": {},
   "source": [
    "# Get descriptors"
   ]
  },
  {
   "cell_type": "code",
   "execution_count": 14,
   "id": "0f57f647",
   "metadata": {},
   "outputs": [],
   "source": [
    "d = Descriptors(traj_path, top_path)\n",
    "EuclidianDist_1 = d.eucdist('C33','C128')\n",
    "Angle_1 = d.angle('C33','C96','C128')\n",
    "Angle_2 = d.angle('C33','C69','C96')\n",
    "Angle_3 = d.angle('C69','C96','C128')\n",
    "Dihedral_1 = d.dihedral('C21','C61','C66','C65')\n",
    "Dihedral_2 = d.dihedral('C89','N6','C95','C96')\n",
    "# For the RMSD descriptor, choose the frame with the largest 'Angle_1' as linear, the smallest as bent\n",
    "# The frame number for linear is 88213, for bent is 29685\n",
    "RMSD_Linear = d.rmsd(frame = 88213)\n",
    "RMSD_Bent = d.rmsd(frame = 29685)"
   ]
  },
  {
   "cell_type": "code",
   "execution_count": 16,
   "id": "6e664029",
   "metadata": {},
   "outputs": [
    {
     "data": {
      "text/plain": [
       "EuclidianDist_1    4.680938\n",
       "Angle_1            3.102149\n",
       "Angle_2            2.592577\n",
       "Angle_3            2.856325\n",
       "Dihedral_1        -1.394683\n",
       "Dihedral_2        -2.993495\n",
       "RMSD_Linear        0.000000\n",
       "RMSD_Bent          1.464485\n",
       "Name: 88213, dtype: float32"
      ]
     },
     "execution_count": 16,
     "metadata": {},
     "output_type": "execute_result"
    }
   ],
   "source": [
    "# Visulize the descriptors in dataframe\n",
    "d_DataFrame = d.to_df(EuclidianDist_1=EuclidianDist_1, Angle_1=Angle_1,\\\n",
    "                      Angle_2=Angle_2, Angle_3=Angle_3, Dihedral_1=Dihedral_1,\\\n",
    "                      Dihedral_2=Dihedral_2, RMSD_Linear =RMSD_Linear, RMSD_Bent =RMSD_Bent)\n",
    "d_DataFrame.iloc[88213, :]"
   ]
  },
  {
   "cell_type": "code",
   "execution_count": 25,
   "id": "b5606159",
   "metadata": {},
   "outputs": [
    {
     "data": {
      "text/plain": [
       "(100000, 8)"
      ]
     },
     "execution_count": 25,
     "metadata": {},
     "output_type": "execute_result"
    }
   ],
   "source": [
    "# Convert dataframe to nparray for dimensionality reduction\n",
    "d_array = np.array(d_DataFrame)\n",
    "d_array.shape"
   ]
  },
  {
   "cell_type": "code",
   "execution_count": 41,
   "id": "cc33e6cc",
   "metadata": {},
   "outputs": [
    {
     "data": {
      "text/plain": [
       "(100000, 3)"
      ]
     },
     "execution_count": 41,
     "metadata": {},
     "output_type": "execute_result"
    }
   ],
   "source": [
    "demo = d_array[:, 0:3]\n",
    "demo.shape"
   ]
  },
  {
   "cell_type": "code",
   "execution_count": 42,
   "id": "ead8b979",
   "metadata": {},
   "outputs": [
    {
     "name": "stdout",
     "output_type": "stream",
     "text": [
      "Sorry, only dimension reduced to 2D accepted.\n"
     ]
    }
   ],
   "source": [
    "plotting.dimreduct('kernel PCA', demo)"
   ]
  },
  {
   "cell_type": "code",
   "execution_count": null,
   "id": "caa44066",
   "metadata": {},
   "outputs": [],
   "source": []
  }
 ],
 "metadata": {
  "kernelspec": {
   "display_name": "Python 3",
   "language": "python",
   "name": "python3"
  },
  "language_info": {
   "codemirror_mode": {
    "name": "ipython",
    "version": 3
   },
   "file_extension": ".py",
   "mimetype": "text/x-python",
   "name": "python",
   "nbconvert_exporter": "python",
   "pygments_lexer": "ipython3",
   "version": "3.9.5"
  }
 },
 "nbformat": 4,
 "nbformat_minor": 5
}
