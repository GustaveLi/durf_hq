{
 "cells": [
  {
   "cell_type": "code",
   "execution_count": 1,
   "id": "713b10c6",
   "metadata": {},
   "outputs": [
    {
     "data": {
      "application/vnd.jupyter.widget-view+json": {
       "model_id": "0b373a8160ff43788e47a27631e5882a",
       "version_major": 2,
       "version_minor": 0
      },
      "text/plain": []
     },
     "metadata": {},
     "output_type": "display_data"
    }
   ],
   "source": [
    "import mdtraj as md\n",
    "import nglview as ngl\n",
    "from tools.compare import compare"
   ]
  },
  {
   "cell_type": "code",
   "execution_count": 2,
   "id": "32188d91",
   "metadata": {},
   "outputs": [],
   "source": [
    "file_dir = '/xspace/hl4212/DURF_datasets/triad_molecule'\n",
    "traj_path = f'{file_dir}/triad_dataset.nc'\n",
    "top_path = f'{file_dir}/triad_forcefield_ground.prmtop'\n",
    "traj = md.load(traj_path, top=top_path)"
   ]
  },
  {
   "cell_type": "code",
   "execution_count": 8,
   "id": "a32450ba",
   "metadata": {},
   "outputs": [
    {
     "data": {
      "application/vnd.jupyter.widget-view+json": {
       "model_id": "9f4759d3c893405684b92dac13946d1b",
       "version_major": 2,
       "version_minor": 0
      },
      "text/plain": [
       "NGLWidget(max_frame=99999)"
      ]
     },
     "metadata": {},
     "output_type": "display_data"
    }
   ],
   "source": [
    "ngl.show_mdtraj(traj)"
   ]
  },
  {
   "cell_type": "code",
   "execution_count": 4,
   "id": "f6ef6767",
   "metadata": {},
   "outputs": [
    {
     "data": {
      "application/vnd.jupyter.widget-view+json": {
       "model_id": "3f7d5316cfe24752ae86fddc042df68a",
       "version_major": 2,
       "version_minor": 0
      },
      "text/plain": [
       "NGLWidget()"
      ]
     },
     "metadata": {},
     "output_type": "display_data"
    }
   ],
   "source": [
    "compare(traj, 26679, 56763)"
   ]
  },
  {
   "cell_type": "code",
   "execution_count": null,
   "id": "f80a2874",
   "metadata": {},
   "outputs": [],
   "source": []
  }
 ],
 "metadata": {
  "kernelspec": {
   "display_name": "Python 3",
   "language": "python",
   "name": "python3"
  },
  "language_info": {
   "codemirror_mode": {
    "name": "ipython",
    "version": 3
   },
   "file_extension": ".py",
   "mimetype": "text/x-python",
   "name": "python",
   "nbconvert_exporter": "python",
   "pygments_lexer": "ipython3",
   "version": "3.9.5"
  }
 },
 "nbformat": 4,
 "nbformat_minor": 5
}
