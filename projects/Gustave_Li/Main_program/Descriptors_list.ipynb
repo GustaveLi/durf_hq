{
 "cells": [
  {
   "cell_type": "markdown",
   "id": "eb64d4e7",
   "metadata": {},
   "source": [
    "# Key atoms"
   ]
  },
  {
   "cell_type": "markdown",
   "id": "057eea2f",
   "metadata": {},
   "source": [
    "- C33: The C60 end of the molecule\n",
    "- C128: The carotenoid end of the molecule\n",
    "- C96: The joint between porphyrin & carotenoid\n",
    "- C69: The joint between carotenoid & C60\n",
    "- C21, C61, C66, C65: Connecting atoms between C60 and porphyrin\n",
    "- C89, N6, C95, C96: Connecting atoms between porphyrin and carotenoid"
   ]
  },
  {
   "cell_type": "markdown",
   "id": "fe7d66bc",
   "metadata": {},
   "source": [
    "# Descriptors"
   ]
  },
  {
   "cell_type": "markdown",
   "id": "89d5614d",
   "metadata": {},
   "source": [
    "- EuclidianDist_1\n",
    "    - The euclidian distance bewteen C33 & C128\n",
    "    - Represent the acceptor-donor distance\n",
    "- Angle_1\n",
    "    - The angle between C33-C96-C128\n",
    "    - Represent the overall bending of the traid molecule\n",
    "- Angle_2\n",
    "    - The angle between C33-C69-C96\n",
    "    - Represent the bending of C60 and porphyrin\n",
    "- Angle_3\n",
    "    - The angle between C69-C96-C128\n",
    "    - Represent the bending of porphyrin and C60\n",
    "- Dihedral_1\n",
    "    - The dihedral between C21-C61-C66-C65\n",
    "    - Represent the torsion between C60 & porphyrin\n",
    "- Dihedral_2\n",
    "    - The dihedral between C89-N6-C95-C96\n",
    "    - Represent the torsion between porphyrin & carotenoid\n",
    "- RMSD_1\n",
    "    - RMSD for the conformation to the Linear triad\n",
    "- RMSD_2\n",
    "    - RMSD for the conformation to the Bent triad"
   ]
  },
  {
   "cell_type": "markdown",
   "id": "18b98d2b",
   "metadata": {},
   "source": [
    "# Descriptors example"
   ]
  },
  {
   "cell_type": "code",
   "execution_count": 16,
   "id": "e9af852d",
   "metadata": {},
   "outputs": [],
   "source": [
    "import numpy as np"
   ]
  },
  {
   "cell_type": "code",
   "execution_count": 17,
   "id": "8aaea1db",
   "metadata": {},
   "outputs": [],
   "source": [
    "from tools.descriptors import Descriptors"
   ]
  },
  {
   "cell_type": "code",
   "execution_count": 18,
   "id": "e0025c3d",
   "metadata": {},
   "outputs": [],
   "source": [
    "# Load files\n",
    "file_dir = '/xspace/hl4212/DURF_datasets/triad_molecule'\n",
    "traj_path = f'{file_dir}/triad_dataset.nc'\n",
    "top_path = f'{file_dir}/triad_forcefield_ground.prmtop'\n",
    "d = Descriptors(traj_path, top_path)"
   ]
  },
  {
   "cell_type": "code",
   "execution_count": 19,
   "id": "f029e47d",
   "metadata": {},
   "outputs": [],
   "source": [
    "# Obtain the descriptors\n",
    "EuclidianDist_1 = d.eucdist('C33','C128')\n",
    "Angle_1 = d.angle('C33','C96','C128')\n",
    "Angle_2 = d.angle('C33','C69','C96')\n",
    "Angle_3 = d.angle('C69','C96','C128')\n",
    "Dihedral_1 = d.dihedral('C21','C61','C66','C65')\n",
    "Dihedral_2 = d.dihedral('C89','N6','C95','C96')\n",
    "# For the RMSD descriptor, choose the frame with the largest 'Angle_1' as linear, the smallest as bent\n",
    "# The frame number for linear is 88213, for bent is 29685\n",
    "RMSD_1 = d.rmsd(frame = 88213)\n",
    "RMSD_2 = d.rmsd(frame = 29685)"
   ]
  },
  {
   "cell_type": "code",
   "execution_count": 20,
   "id": "e37f592c",
   "metadata": {},
   "outputs": [
    {
     "data": {
      "text/html": [
       "<div>\n",
       "<style scoped>\n",
       "    .dataframe tbody tr th:only-of-type {\n",
       "        vertical-align: middle;\n",
       "    }\n",
       "\n",
       "    .dataframe tbody tr th {\n",
       "        vertical-align: top;\n",
       "    }\n",
       "\n",
       "    .dataframe thead th {\n",
       "        text-align: right;\n",
       "    }\n",
       "</style>\n",
       "<table border=\"1\" class=\"dataframe\">\n",
       "  <thead>\n",
       "    <tr style=\"text-align: right;\">\n",
       "      <th></th>\n",
       "      <th>EuclidianDist_1</th>\n",
       "      <th>Angle_1</th>\n",
       "      <th>Angle_2</th>\n",
       "      <th>Angle_3</th>\n",
       "      <th>Dihedral_1</th>\n",
       "      <th>Dihedral_2</th>\n",
       "      <th>RMSD_1</th>\n",
       "      <th>RMSD_2</th>\n",
       "    </tr>\n",
       "  </thead>\n",
       "  <tbody>\n",
       "    <tr>\n",
       "      <th>0</th>\n",
       "      <td>4.135001</td>\n",
       "      <td>1.862408</td>\n",
       "      <td>2.174203</td>\n",
       "      <td>1.523234</td>\n",
       "      <td>2.619274</td>\n",
       "      <td>3.074855</td>\n",
       "      <td>0.763624</td>\n",
       "      <td>1.046674</td>\n",
       "    </tr>\n",
       "    <tr>\n",
       "      <th>1</th>\n",
       "      <td>4.081912</td>\n",
       "      <td>1.844877</td>\n",
       "      <td>2.225012</td>\n",
       "      <td>1.549974</td>\n",
       "      <td>2.698790</td>\n",
       "      <td>3.141504</td>\n",
       "      <td>0.768220</td>\n",
       "      <td>1.047367</td>\n",
       "    </tr>\n",
       "    <tr>\n",
       "      <th>2</th>\n",
       "      <td>4.078993</td>\n",
       "      <td>1.791105</td>\n",
       "      <td>2.345837</td>\n",
       "      <td>1.558566</td>\n",
       "      <td>2.680488</td>\n",
       "      <td>-3.087373</td>\n",
       "      <td>0.775650</td>\n",
       "      <td>1.044716</td>\n",
       "    </tr>\n",
       "    <tr>\n",
       "      <th>3</th>\n",
       "      <td>4.120493</td>\n",
       "      <td>1.824511</td>\n",
       "      <td>2.289704</td>\n",
       "      <td>1.548207</td>\n",
       "      <td>2.608084</td>\n",
       "      <td>-2.905645</td>\n",
       "      <td>0.767361</td>\n",
       "      <td>1.058475</td>\n",
       "    </tr>\n",
       "    <tr>\n",
       "      <th>4</th>\n",
       "      <td>4.074001</td>\n",
       "      <td>1.811295</td>\n",
       "      <td>2.226435</td>\n",
       "      <td>1.545865</td>\n",
       "      <td>2.526079</td>\n",
       "      <td>-2.918643</td>\n",
       "      <td>0.784022</td>\n",
       "      <td>1.035676</td>\n",
       "    </tr>\n",
       "    <tr>\n",
       "      <th>...</th>\n",
       "      <td>...</td>\n",
       "      <td>...</td>\n",
       "      <td>...</td>\n",
       "      <td>...</td>\n",
       "      <td>...</td>\n",
       "      <td>...</td>\n",
       "      <td>...</td>\n",
       "      <td>...</td>\n",
       "    </tr>\n",
       "    <tr>\n",
       "      <th>99995</th>\n",
       "      <td>4.657602</td>\n",
       "      <td>2.134681</td>\n",
       "      <td>2.807392</td>\n",
       "      <td>2.029222</td>\n",
       "      <td>-2.145249</td>\n",
       "      <td>-3.141455</td>\n",
       "      <td>0.528814</td>\n",
       "      <td>1.204386</td>\n",
       "    </tr>\n",
       "    <tr>\n",
       "      <th>99996</th>\n",
       "      <td>4.543524</td>\n",
       "      <td>2.063565</td>\n",
       "      <td>2.831861</td>\n",
       "      <td>2.023469</td>\n",
       "      <td>-1.931827</td>\n",
       "      <td>2.972840</td>\n",
       "      <td>0.557411</td>\n",
       "      <td>1.186918</td>\n",
       "    </tr>\n",
       "    <tr>\n",
       "      <th>99997</th>\n",
       "      <td>4.593875</td>\n",
       "      <td>2.089307</td>\n",
       "      <td>2.805922</td>\n",
       "      <td>1.997702</td>\n",
       "      <td>-2.161717</td>\n",
       "      <td>2.770834</td>\n",
       "      <td>0.539554</td>\n",
       "      <td>1.194707</td>\n",
       "    </tr>\n",
       "    <tr>\n",
       "      <th>99998</th>\n",
       "      <td>4.625174</td>\n",
       "      <td>2.137845</td>\n",
       "      <td>2.851437</td>\n",
       "      <td>2.080499</td>\n",
       "      <td>-1.990369</td>\n",
       "      <td>3.005851</td>\n",
       "      <td>0.501717</td>\n",
       "      <td>1.232133</td>\n",
       "    </tr>\n",
       "    <tr>\n",
       "      <th>99999</th>\n",
       "      <td>4.683455</td>\n",
       "      <td>2.142881</td>\n",
       "      <td>2.993322</td>\n",
       "      <td>2.092244</td>\n",
       "      <td>-1.903713</td>\n",
       "      <td>2.969599</td>\n",
       "      <td>0.499957</td>\n",
       "      <td>1.227236</td>\n",
       "    </tr>\n",
       "  </tbody>\n",
       "</table>\n",
       "<p>100000 rows × 8 columns</p>\n",
       "</div>"
      ],
      "text/plain": [
       "       EuclidianDist_1   Angle_1   Angle_2   Angle_3  Dihedral_1  Dihedral_2  \\\n",
       "0             4.135001  1.862408  2.174203  1.523234    2.619274    3.074855   \n",
       "1             4.081912  1.844877  2.225012  1.549974    2.698790    3.141504   \n",
       "2             4.078993  1.791105  2.345837  1.558566    2.680488   -3.087373   \n",
       "3             4.120493  1.824511  2.289704  1.548207    2.608084   -2.905645   \n",
       "4             4.074001  1.811295  2.226435  1.545865    2.526079   -2.918643   \n",
       "...                ...       ...       ...       ...         ...         ...   \n",
       "99995         4.657602  2.134681  2.807392  2.029222   -2.145249   -3.141455   \n",
       "99996         4.543524  2.063565  2.831861  2.023469   -1.931827    2.972840   \n",
       "99997         4.593875  2.089307  2.805922  1.997702   -2.161717    2.770834   \n",
       "99998         4.625174  2.137845  2.851437  2.080499   -1.990369    3.005851   \n",
       "99999         4.683455  2.142881  2.993322  2.092244   -1.903713    2.969599   \n",
       "\n",
       "         RMSD_1    RMSD_2  \n",
       "0      0.763624  1.046674  \n",
       "1      0.768220  1.047367  \n",
       "2      0.775650  1.044716  \n",
       "3      0.767361  1.058475  \n",
       "4      0.784022  1.035676  \n",
       "...         ...       ...  \n",
       "99995  0.528814  1.204386  \n",
       "99996  0.557411  1.186918  \n",
       "99997  0.539554  1.194707  \n",
       "99998  0.501717  1.232133  \n",
       "99999  0.499957  1.227236  \n",
       "\n",
       "[100000 rows x 8 columns]"
      ]
     },
     "execution_count": 20,
     "metadata": {},
     "output_type": "execute_result"
    }
   ],
   "source": [
    "# Visulize the descriptors by dataframe\n",
    "d.to_df(EuclidianDist_1=EuclidianDist_1, Angle_1=Angle_1,\\\n",
    "       Angle_2=Angle_2, Angle_3=Angle_3, Dihedral_1=Dihedral_1,\\\n",
    "       Dihedral_2=Dihedral_2, RMSD_1 =RMSD_1, RMSD_2 =RMSD_2)"
   ]
  },
  {
   "cell_type": "code",
   "execution_count": 21,
   "id": "f695550e",
   "metadata": {},
   "outputs": [
    {
     "data": {
      "text/plain": [
       "(array([29685]),)"
      ]
     },
     "execution_count": 21,
     "metadata": {},
     "output_type": "execute_result"
    }
   ],
   "source": [
    "np.where(Angle_1==np.min(Angle_1))"
   ]
  },
  {
   "cell_type": "code",
   "execution_count": null,
   "id": "8bf67c45",
   "metadata": {},
   "outputs": [],
   "source": []
  }
 ],
 "metadata": {
  "kernelspec": {
   "display_name": "Python 3",
   "language": "python",
   "name": "python3"
  },
  "language_info": {
   "codemirror_mode": {
    "name": "ipython",
    "version": 3
   },
   "file_extension": ".py",
   "mimetype": "text/x-python",
   "name": "python",
   "nbconvert_exporter": "python",
   "pygments_lexer": "ipython3",
   "version": "3.9.5"
  }
 },
 "nbformat": 4,
 "nbformat_minor": 5
}
