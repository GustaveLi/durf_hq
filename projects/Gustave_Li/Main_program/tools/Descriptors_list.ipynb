{
 "cells": [
  {
   "cell_type": "markdown",
   "id": "eb64d4e7",
   "metadata": {},
   "source": [
    "# Key atoms"
   ]
  },
  {
   "cell_type": "markdown",
   "id": "057eea2f",
   "metadata": {},
   "source": [
    "- C33: The C60 end of the molecule\n",
    "- C128: The carotenoid end of the molecule\n",
    "- C96: The joint between porphyrin & carotenoid\n",
    "- C69: The joint between carotenoid & C60\n",
    "- C21, C61, C66, C65: Connecting atoms between C60 and porphyrin\n",
    "- C89, N6, C95, C96: Connecting atoms between porphyrin and carotenoid"
   ]
  },
  {
   "cell_type": "markdown",
   "id": "fe7d66bc",
   "metadata": {},
   "source": [
    "# Descriptors"
   ]
  },
  {
   "cell_type": "markdown",
   "id": "89d5614d",
   "metadata": {},
   "source": [
    "- EuclidianDist_1\n",
    "    - The euclidian distance bewteen C33 & C128\n",
    "    - Represent the acceptor-donor distance\n",
    "- Angle_1\n",
    "    - The angle between C33-C96-C128\n",
    "    - Represent the overall bending of the traid molecule\n",
    "- Angle_2\n",
    "    - The angle between C33-C69-C96\n",
    "    - Represent the bending of C60 and porphyrin\n",
    "- Angle_3\n",
    "    - The angle between C69-C96-C128\n",
    "    - Represent the bending of porphyrin and C60\n",
    "- Dihedral_1\n",
    "    - The dihedral between C21-C61-C66-C65\n",
    "    - Represent the torsion between C60 & porphyrin\n",
    "- Dihedral_2\n",
    "    - The dihedral between C89-N6-C95-C96\n",
    "    - Represent the torsion between porphyrin & carotenoid\n",
    "- RMSD_1\n",
    "    - RMSD for the conformation to the Linear triad\n",
    "- RMSD_2\n",
    "    - RMSD for the conformation to the Bent triad"
   ]
  }
 ],
 "metadata": {
  "kernelspec": {
   "display_name": "Python 3",
   "language": "python",
   "name": "python3"
  },
  "language_info": {
   "codemirror_mode": {
    "name": "ipython",
    "version": 3
   },
   "file_extension": ".py",
   "mimetype": "text/x-python",
   "name": "python",
   "nbconvert_exporter": "python",
   "pygments_lexer": "ipython3",
   "version": "3.9.5"
  }
 },
 "nbformat": 4,
 "nbformat_minor": 5
}
