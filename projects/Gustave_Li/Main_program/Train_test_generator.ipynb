{
 "cells": [
  {
   "cell_type": "code",
   "execution_count": 1,
   "id": "9c339129",
   "metadata": {},
   "outputs": [],
   "source": [
    "# Import mdtraj to load trajectory, sklearn for train test split\n",
    "from sklearn.model_selection import train_test_split\n",
    "import mdtraj as md"
   ]
  },
  {
   "cell_type": "code",
   "execution_count": 2,
   "id": "abc31a22",
   "metadata": {},
   "outputs": [],
   "source": [
    "# Load traj\n",
    "data_dir = '/xspace/hl4212/DURF_datasets/triad_molecule'\n",
    "top_file = f'{data_dir}/triad_forcefield_ground.prmtop'\n",
    "traj_file = f'{data_dir}/triad_dataset.nc'\n",
    "traj = md.load(traj_file, top=top_file)"
   ]
  },
  {
   "cell_type": "code",
   "execution_count": 3,
   "id": "a318e3c1",
   "metadata": {},
   "outputs": [],
   "source": [
    "# Perform the train test split, with test ratio of 0.2\n",
    "# The output is a list of single frames\n",
    "triad_train_list, triad_test_list = train_test_split(traj, test_size=0.2, random_state=42)"
   ]
  },
  {
   "cell_type": "code",
   "execution_count": 4,
   "id": "55f8d8a3",
   "metadata": {},
   "outputs": [],
   "source": [
    "# Join the list into one trajectory\n",
    "# Align the conformation in the train set to the 1st frame\n",
    "triad_train = triad_train_list[0].join(triad_train_list[1:])\n",
    "triad_test = triad_test_list[0].join(triad_test_list[1:])\n",
    "triad_train_aligned = triad_train.superpose(triad_train, frame=0)"
   ]
  },
  {
   "cell_type": "code",
   "execution_count": 5,
   "id": "58c91760",
   "metadata": {},
   "outputs": [],
   "source": [
    "# Save the data back to disk\n",
    "triad_train.save('/xspace/hl4212/DURF_datasets/triad_molecule/triad_train.nc')\n",
    "triad_test.save('/xspace/hl4212/DURF_datasets/triad_molecule/triad_test.nc')\n",
    "triad_train_aligned.save('/xspace/hl4212/DURF_datasets/triad_molecule/triad_train_aligned.nc')"
   ]
  }
 ],
 "metadata": {
  "kernelspec": {
   "display_name": "Python 3",
   "language": "python",
   "name": "python3"
  },
  "language_info": {
   "codemirror_mode": {
    "name": "ipython",
    "version": 3
   },
   "file_extension": ".py",
   "mimetype": "text/x-python",
   "name": "python",
   "nbconvert_exporter": "python",
   "pygments_lexer": "ipython3",
   "version": "3.9.5"
  }
 },
 "nbformat": 4,
 "nbformat_minor": 5
}
